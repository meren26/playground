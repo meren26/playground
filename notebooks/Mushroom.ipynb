{
 "cells": [
  {
   "cell_type": "markdown",
   "metadata": {},
   "source": [
    "## Mushroom"
   ]
  },
  {
   "cell_type": "markdown",
   "metadata": {},
   "source": [
    "Kaggle's Mushroom Classification. Aim is to detect edible mushrooms. More info <a href=\"https://www.kaggle.com/uciml/mushroom-classification\">here.</a>"
   ]
  },
  {
   "cell_type": "markdown",
   "metadata": {},
   "source": [
    "### Table of Contents\n",
    "\n",
    "1. [Imports](#Imports)    \n",
    "2. [Data](#Data)  \n",
    "  2.1 [Import Data](#Import_Data)   \n",
    "  2.2 [Missing Values](#Missing_Values)  \n",
    "3. [EDA](#EDA)  \n",
    "  3.1 [Target](#Target)  \n",
    "  3.2 [Features](#Features)  \n",
    "4. [Preprocess](#Preprocess)\n",
    "5. [Models](#Models)  \n",
    "  5.1 [Logistic Regression](#Logistic_Regression)  \n",
    "  5.2 [KNN](#KNN)  \n",
    "  5.3 [SVM](#SVM)  \n",
    "  5.4 [Gaussian Naive Bayes](#Gaussian_Naive_Bayes)  \n",
    "  5.5 [Decision Tree](#Decision_Tree)  \n",
    "  5.6 [Random Forest](#Random_Forest)  \n",
    "  5.7 [CatBoost](#CatBoost)\n",
    "6. [Evaluation](#Evaluation)  "
   ]
  },
  {
   "cell_type": "markdown",
   "metadata": {},
   "source": [
    "### Imports"
   ]
  },
  {
   "cell_type": "code",
   "execution_count": 1,
   "metadata": {},
   "outputs": [
    {
     "name": "stdout",
     "output_type": "stream",
     "text": [
      "Populating the interactive namespace from numpy and matplotlib\n"
     ]
    },
    {
     "data": {
      "text/html": [
       "<style>.container { width:100% !important; }</style>"
      ],
      "text/plain": [
       "<IPython.core.display.HTML object>"
      ]
     },
     "metadata": {},
     "output_type": "display_data"
    }
   ],
   "source": [
    "# main\n",
    "import numpy as np\n",
    "import pandas as pd\n",
    "import scipy.stats as stats\n",
    "import pickle\n",
    "\n",
    "# datetimes\n",
    "import datetime as dt\n",
    "from datetime import datetime\n",
    "import time\n",
    "\n",
    "# dataviz\n",
    "%matplotlib notebook\n",
    "import matplotlib.pyplot as plt\n",
    "import seaborn as sns\n",
    "import graphviz\n",
    "\n",
    "# plot style\n",
    "%config InteractiveShellApp.pylab_import_all = False\n",
    "%pylab inline\n",
    "pylab.rcParams['figure.figsize'] = (10, 7)\n",
    "\n",
    "plt.style.use('seaborn-colorblind')\n",
    "\n",
    "# outline\n",
    "from IPython.core.display import display, HTML\n",
    "display(HTML(\"<style>.container { width:100% !important; }</style>\"))\n",
    "\n",
    "from IPython.core.interactiveshell import InteractiveShell\n",
    "InteractiveShell.ast_node_interactivity = \"all\"\n",
    "\n",
    "%precision %.3f\n",
    "\n",
    "# pandas display\n",
    "pd.set_option('display.max_rows', 200)\n",
    "pd.set_option('display.max_columns', 100)\n",
    "\n",
    "# warnings\n",
    "import warnings\n",
    "warnings.filterwarnings('ignore')"
   ]
  },
  {
   "cell_type": "markdown",
   "metadata": {},
   "source": [
    "### Data"
   ]
  },
  {
   "cell_type": "markdown",
   "metadata": {},
   "source": [
    "#### Import_Data"
   ]
  },
  {
   "cell_type": "code",
   "execution_count": 2,
   "metadata": {},
   "outputs": [],
   "source": [
    "df = pd.read_csv('../data/mushrooms.csv')"
   ]
  },
  {
   "cell_type": "code",
   "execution_count": 3,
   "metadata": {},
   "outputs": [
    {
     "data": {
      "text/plain": [
       "8124"
      ]
     },
     "execution_count": 3,
     "metadata": {},
     "output_type": "execute_result"
    }
   ],
   "source": [
    "# data available\n",
    "len(df)"
   ]
  },
  {
   "cell_type": "code",
   "execution_count": 4,
   "metadata": {},
   "outputs": [
    {
     "data": {
      "text/html": [
       "<div>\n",
       "<style scoped>\n",
       "    .dataframe tbody tr th:only-of-type {\n",
       "        vertical-align: middle;\n",
       "    }\n",
       "\n",
       "    .dataframe tbody tr th {\n",
       "        vertical-align: top;\n",
       "    }\n",
       "\n",
       "    .dataframe thead th {\n",
       "        text-align: right;\n",
       "    }\n",
       "</style>\n",
       "<table border=\"1\" class=\"dataframe\">\n",
       "  <thead>\n",
       "    <tr style=\"text-align: right;\">\n",
       "      <th></th>\n",
       "      <th>0</th>\n",
       "      <th>1</th>\n",
       "      <th>2</th>\n",
       "      <th>3</th>\n",
       "      <th>4</th>\n",
       "    </tr>\n",
       "  </thead>\n",
       "  <tbody>\n",
       "    <tr>\n",
       "      <th>class</th>\n",
       "      <td>p</td>\n",
       "      <td>e</td>\n",
       "      <td>e</td>\n",
       "      <td>p</td>\n",
       "      <td>e</td>\n",
       "    </tr>\n",
       "    <tr>\n",
       "      <th>cap-shape</th>\n",
       "      <td>x</td>\n",
       "      <td>x</td>\n",
       "      <td>b</td>\n",
       "      <td>x</td>\n",
       "      <td>x</td>\n",
       "    </tr>\n",
       "    <tr>\n",
       "      <th>cap-surface</th>\n",
       "      <td>s</td>\n",
       "      <td>s</td>\n",
       "      <td>s</td>\n",
       "      <td>y</td>\n",
       "      <td>s</td>\n",
       "    </tr>\n",
       "    <tr>\n",
       "      <th>cap-color</th>\n",
       "      <td>n</td>\n",
       "      <td>y</td>\n",
       "      <td>w</td>\n",
       "      <td>w</td>\n",
       "      <td>g</td>\n",
       "    </tr>\n",
       "    <tr>\n",
       "      <th>bruises</th>\n",
       "      <td>t</td>\n",
       "      <td>t</td>\n",
       "      <td>t</td>\n",
       "      <td>t</td>\n",
       "      <td>f</td>\n",
       "    </tr>\n",
       "    <tr>\n",
       "      <th>odor</th>\n",
       "      <td>p</td>\n",
       "      <td>a</td>\n",
       "      <td>l</td>\n",
       "      <td>p</td>\n",
       "      <td>n</td>\n",
       "    </tr>\n",
       "    <tr>\n",
       "      <th>gill-attachment</th>\n",
       "      <td>f</td>\n",
       "      <td>f</td>\n",
       "      <td>f</td>\n",
       "      <td>f</td>\n",
       "      <td>f</td>\n",
       "    </tr>\n",
       "    <tr>\n",
       "      <th>gill-spacing</th>\n",
       "      <td>c</td>\n",
       "      <td>c</td>\n",
       "      <td>c</td>\n",
       "      <td>c</td>\n",
       "      <td>w</td>\n",
       "    </tr>\n",
       "    <tr>\n",
       "      <th>gill-size</th>\n",
       "      <td>n</td>\n",
       "      <td>b</td>\n",
       "      <td>b</td>\n",
       "      <td>n</td>\n",
       "      <td>b</td>\n",
       "    </tr>\n",
       "    <tr>\n",
       "      <th>gill-color</th>\n",
       "      <td>k</td>\n",
       "      <td>k</td>\n",
       "      <td>n</td>\n",
       "      <td>n</td>\n",
       "      <td>k</td>\n",
       "    </tr>\n",
       "    <tr>\n",
       "      <th>stalk-shape</th>\n",
       "      <td>e</td>\n",
       "      <td>e</td>\n",
       "      <td>e</td>\n",
       "      <td>e</td>\n",
       "      <td>t</td>\n",
       "    </tr>\n",
       "    <tr>\n",
       "      <th>stalk-root</th>\n",
       "      <td>e</td>\n",
       "      <td>c</td>\n",
       "      <td>c</td>\n",
       "      <td>e</td>\n",
       "      <td>e</td>\n",
       "    </tr>\n",
       "    <tr>\n",
       "      <th>stalk-surface-above-ring</th>\n",
       "      <td>s</td>\n",
       "      <td>s</td>\n",
       "      <td>s</td>\n",
       "      <td>s</td>\n",
       "      <td>s</td>\n",
       "    </tr>\n",
       "    <tr>\n",
       "      <th>stalk-surface-below-ring</th>\n",
       "      <td>s</td>\n",
       "      <td>s</td>\n",
       "      <td>s</td>\n",
       "      <td>s</td>\n",
       "      <td>s</td>\n",
       "    </tr>\n",
       "    <tr>\n",
       "      <th>stalk-color-above-ring</th>\n",
       "      <td>w</td>\n",
       "      <td>w</td>\n",
       "      <td>w</td>\n",
       "      <td>w</td>\n",
       "      <td>w</td>\n",
       "    </tr>\n",
       "    <tr>\n",
       "      <th>stalk-color-below-ring</th>\n",
       "      <td>w</td>\n",
       "      <td>w</td>\n",
       "      <td>w</td>\n",
       "      <td>w</td>\n",
       "      <td>w</td>\n",
       "    </tr>\n",
       "    <tr>\n",
       "      <th>veil-type</th>\n",
       "      <td>p</td>\n",
       "      <td>p</td>\n",
       "      <td>p</td>\n",
       "      <td>p</td>\n",
       "      <td>p</td>\n",
       "    </tr>\n",
       "    <tr>\n",
       "      <th>veil-color</th>\n",
       "      <td>w</td>\n",
       "      <td>w</td>\n",
       "      <td>w</td>\n",
       "      <td>w</td>\n",
       "      <td>w</td>\n",
       "    </tr>\n",
       "    <tr>\n",
       "      <th>ring-number</th>\n",
       "      <td>o</td>\n",
       "      <td>o</td>\n",
       "      <td>o</td>\n",
       "      <td>o</td>\n",
       "      <td>o</td>\n",
       "    </tr>\n",
       "    <tr>\n",
       "      <th>ring-type</th>\n",
       "      <td>p</td>\n",
       "      <td>p</td>\n",
       "      <td>p</td>\n",
       "      <td>p</td>\n",
       "      <td>e</td>\n",
       "    </tr>\n",
       "    <tr>\n",
       "      <th>spore-print-color</th>\n",
       "      <td>k</td>\n",
       "      <td>n</td>\n",
       "      <td>n</td>\n",
       "      <td>k</td>\n",
       "      <td>n</td>\n",
       "    </tr>\n",
       "    <tr>\n",
       "      <th>population</th>\n",
       "      <td>s</td>\n",
       "      <td>n</td>\n",
       "      <td>n</td>\n",
       "      <td>s</td>\n",
       "      <td>a</td>\n",
       "    </tr>\n",
       "    <tr>\n",
       "      <th>habitat</th>\n",
       "      <td>u</td>\n",
       "      <td>g</td>\n",
       "      <td>m</td>\n",
       "      <td>u</td>\n",
       "      <td>g</td>\n",
       "    </tr>\n",
       "  </tbody>\n",
       "</table>\n",
       "</div>"
      ],
      "text/plain": [
       "                          0  1  2  3  4\n",
       "class                     p  e  e  p  e\n",
       "cap-shape                 x  x  b  x  x\n",
       "cap-surface               s  s  s  y  s\n",
       "cap-color                 n  y  w  w  g\n",
       "bruises                   t  t  t  t  f\n",
       "odor                      p  a  l  p  n\n",
       "gill-attachment           f  f  f  f  f\n",
       "gill-spacing              c  c  c  c  w\n",
       "gill-size                 n  b  b  n  b\n",
       "gill-color                k  k  n  n  k\n",
       "stalk-shape               e  e  e  e  t\n",
       "stalk-root                e  c  c  e  e\n",
       "stalk-surface-above-ring  s  s  s  s  s\n",
       "stalk-surface-below-ring  s  s  s  s  s\n",
       "stalk-color-above-ring    w  w  w  w  w\n",
       "stalk-color-below-ring    w  w  w  w  w\n",
       "veil-type                 p  p  p  p  p\n",
       "veil-color                w  w  w  w  w\n",
       "ring-number               o  o  o  o  o\n",
       "ring-type                 p  p  p  p  e\n",
       "spore-print-color         k  n  n  k  n\n",
       "population                s  n  n  s  a\n",
       "habitat                   u  g  m  u  g"
      ]
     },
     "execution_count": 4,
     "metadata": {},
     "output_type": "execute_result"
    }
   ],
   "source": [
    "df.head().T"
   ]
  },
  {
   "cell_type": "markdown",
   "metadata": {},
   "source": [
    "Attribute Information: \n",
    "\n",
    "(classes: edible=e, poisonous=p)\n",
    "\n",
    "- cap-shape: bell=b,conical=c,convex=x,flat=f, knobbed=k,sunken=s  \n",
    "- cap-surface: fibrous=f,grooves=g,scaly=y,smooth=s  \n",
    "- cap-color: brown=n,buff=b,cinnamon=c,gray=g,green=r,pink=p,purple=u,red=e,white=w,yellow=y  \n",
    "- bruises: bruises=t,no=f  \n",
    "- odor: almond=a,anise=l,creosote=c,fishy=y,foul=f,musty=m,none=n,pungent=p,spicy=s  \n",
    "- gill-attachment: attached=a,descending=d,free=f,notched=n  \n",
    "- gill-spacing: close=c,crowded=w,distant=d  \n",
    "- gill-size: broad=b,narrow=n  \n",
    "- gill-color: black=k,brown=n,buff=b,chocolate=h,gray=g, green=r,orange=o,pink=p,purple=u,red=e,white=w,yellow=y  \n",
    "- stalk-shape: enlarging=e,tapering=t  \n",
    "- stalk-root: bulbous=b,club=c,cup=u,equal=e,rhizomorphs=z,rooted=r,missing=?  \n",
    "- stalk-surface-above-ring: fibrous=f,scaly=y,silky=k,smooth=s  \n",
    "- stalk-surface-below-ring: fibrous=f,scaly=y,silky=k,smooth=s  \n",
    "- stalk-color-above-ring: brown=n,buff=b,cinnamon=c,gray=g,orange=o,pink=p,red=e,white=w,yellow=y  \n",
    "- stalk-color-below-ring: brown=n,buff=b,cinnamon=c,gray=g,orange=o,pink=p,red=e,white=w,yellow=y  \n",
    "- veil-type: partial=p,universal=u  \n",
    "- veil-color: brown=n,orange=o,white=w,yellow=y  \n",
    "- ring-number: none=n,one=o,two=t  \n",
    "- ring-type: cobwebby=c,evanescent=e,flaring=f,large=l,none=n,pendant=p,sheathing=s,zone=z  \n",
    "- spore-print-color: black=k,brown=n,buff=b,chocolate=h,green=r,orange=o,purple=u,white=w,yellow=y  \n",
    "- population: abundant=a,clustered=c,numerous=n,scattered=s,several=v,solitary=y  \n",
    "- habitat: grasses=g,leaves=l,meadows=m,paths=p,urban=u,waste=w,woods=d  "
   ]
  },
  {
   "cell_type": "markdown",
   "metadata": {},
   "source": [
    "#### Missing_Values"
   ]
  },
  {
   "cell_type": "code",
   "execution_count": 5,
   "metadata": {},
   "outputs": [
    {
     "data": {
      "text/plain": [
       "class                       0.0\n",
       "cap-shape                   0.0\n",
       "cap-surface                 0.0\n",
       "cap-color                   0.0\n",
       "bruises                     0.0\n",
       "odor                        0.0\n",
       "gill-attachment             0.0\n",
       "gill-spacing                0.0\n",
       "gill-size                   0.0\n",
       "gill-color                  0.0\n",
       "stalk-shape                 0.0\n",
       "stalk-root                  0.0\n",
       "stalk-surface-above-ring    0.0\n",
       "stalk-surface-below-ring    0.0\n",
       "stalk-color-above-ring      0.0\n",
       "stalk-color-below-ring      0.0\n",
       "veil-type                   0.0\n",
       "veil-color                  0.0\n",
       "ring-number                 0.0\n",
       "ring-type                   0.0\n",
       "spore-print-color           0.0\n",
       "population                  0.0\n",
       "habitat                     0.0\n",
       "dtype: float64"
      ]
     },
     "execution_count": 5,
     "metadata": {},
     "output_type": "execute_result"
    }
   ],
   "source": [
    "df.isna().mean()"
   ]
  },
  {
   "cell_type": "markdown",
   "metadata": {},
   "source": [
    "### EDA"
   ]
  },
  {
   "cell_type": "code",
   "execution_count": 6,
   "metadata": {},
   "outputs": [
    {
     "data": {
      "text/html": [
       "<div>\n",
       "<style scoped>\n",
       "    .dataframe tbody tr th:only-of-type {\n",
       "        vertical-align: middle;\n",
       "    }\n",
       "\n",
       "    .dataframe tbody tr th {\n",
       "        vertical-align: top;\n",
       "    }\n",
       "\n",
       "    .dataframe thead th {\n",
       "        text-align: right;\n",
       "    }\n",
       "</style>\n",
       "<table border=\"1\" class=\"dataframe\">\n",
       "  <thead>\n",
       "    <tr style=\"text-align: right;\">\n",
       "      <th></th>\n",
       "      <th>class</th>\n",
       "      <th>cap-shape</th>\n",
       "      <th>cap-surface</th>\n",
       "      <th>cap-color</th>\n",
       "      <th>bruises</th>\n",
       "      <th>odor</th>\n",
       "      <th>gill-attachment</th>\n",
       "      <th>gill-spacing</th>\n",
       "      <th>gill-size</th>\n",
       "      <th>gill-color</th>\n",
       "      <th>stalk-shape</th>\n",
       "      <th>stalk-root</th>\n",
       "      <th>stalk-surface-above-ring</th>\n",
       "      <th>stalk-surface-below-ring</th>\n",
       "      <th>stalk-color-above-ring</th>\n",
       "      <th>stalk-color-below-ring</th>\n",
       "      <th>veil-type</th>\n",
       "      <th>veil-color</th>\n",
       "      <th>ring-number</th>\n",
       "      <th>ring-type</th>\n",
       "      <th>spore-print-color</th>\n",
       "      <th>population</th>\n",
       "      <th>habitat</th>\n",
       "    </tr>\n",
       "  </thead>\n",
       "  <tbody>\n",
       "    <tr>\n",
       "      <th>0</th>\n",
       "      <td>poisonous</td>\n",
       "      <td>convex</td>\n",
       "      <td>smooth</td>\n",
       "      <td>brown</td>\n",
       "      <td>bruises</td>\n",
       "      <td>pungent</td>\n",
       "      <td>free</td>\n",
       "      <td>close</td>\n",
       "      <td>narrow</td>\n",
       "      <td>black</td>\n",
       "      <td>enlarging</td>\n",
       "      <td>equal</td>\n",
       "      <td>smooth</td>\n",
       "      <td>smooth</td>\n",
       "      <td>white</td>\n",
       "      <td>white</td>\n",
       "      <td>partial</td>\n",
       "      <td>white</td>\n",
       "      <td>one</td>\n",
       "      <td>pendant</td>\n",
       "      <td>black</td>\n",
       "      <td>scattered</td>\n",
       "      <td>urban</td>\n",
       "    </tr>\n",
       "    <tr>\n",
       "      <th>1</th>\n",
       "      <td>edible</td>\n",
       "      <td>convex</td>\n",
       "      <td>smooth</td>\n",
       "      <td>yellow</td>\n",
       "      <td>bruises</td>\n",
       "      <td>almond</td>\n",
       "      <td>free</td>\n",
       "      <td>close</td>\n",
       "      <td>broad</td>\n",
       "      <td>black</td>\n",
       "      <td>enlarging</td>\n",
       "      <td>club</td>\n",
       "      <td>smooth</td>\n",
       "      <td>smooth</td>\n",
       "      <td>white</td>\n",
       "      <td>white</td>\n",
       "      <td>partial</td>\n",
       "      <td>white</td>\n",
       "      <td>one</td>\n",
       "      <td>pendant</td>\n",
       "      <td>brown</td>\n",
       "      <td>numerous</td>\n",
       "      <td>grasses</td>\n",
       "    </tr>\n",
       "    <tr>\n",
       "      <th>2</th>\n",
       "      <td>edible</td>\n",
       "      <td>bell</td>\n",
       "      <td>smooth</td>\n",
       "      <td>white</td>\n",
       "      <td>bruises</td>\n",
       "      <td>anise</td>\n",
       "      <td>free</td>\n",
       "      <td>close</td>\n",
       "      <td>broad</td>\n",
       "      <td>brown</td>\n",
       "      <td>enlarging</td>\n",
       "      <td>club</td>\n",
       "      <td>smooth</td>\n",
       "      <td>smooth</td>\n",
       "      <td>white</td>\n",
       "      <td>white</td>\n",
       "      <td>partial</td>\n",
       "      <td>white</td>\n",
       "      <td>one</td>\n",
       "      <td>pendant</td>\n",
       "      <td>brown</td>\n",
       "      <td>numerous</td>\n",
       "      <td>meadows</td>\n",
       "    </tr>\n",
       "    <tr>\n",
       "      <th>3</th>\n",
       "      <td>poisonous</td>\n",
       "      <td>convex</td>\n",
       "      <td>scaly</td>\n",
       "      <td>white</td>\n",
       "      <td>bruises</td>\n",
       "      <td>pungent</td>\n",
       "      <td>free</td>\n",
       "      <td>close</td>\n",
       "      <td>narrow</td>\n",
       "      <td>brown</td>\n",
       "      <td>enlarging</td>\n",
       "      <td>equal</td>\n",
       "      <td>smooth</td>\n",
       "      <td>smooth</td>\n",
       "      <td>white</td>\n",
       "      <td>white</td>\n",
       "      <td>partial</td>\n",
       "      <td>white</td>\n",
       "      <td>one</td>\n",
       "      <td>pendant</td>\n",
       "      <td>black</td>\n",
       "      <td>scattered</td>\n",
       "      <td>urban</td>\n",
       "    </tr>\n",
       "    <tr>\n",
       "      <th>4</th>\n",
       "      <td>edible</td>\n",
       "      <td>convex</td>\n",
       "      <td>smooth</td>\n",
       "      <td>gray</td>\n",
       "      <td>no</td>\n",
       "      <td>none</td>\n",
       "      <td>free</td>\n",
       "      <td>crowded</td>\n",
       "      <td>broad</td>\n",
       "      <td>black</td>\n",
       "      <td>tapering</td>\n",
       "      <td>equal</td>\n",
       "      <td>smooth</td>\n",
       "      <td>smooth</td>\n",
       "      <td>white</td>\n",
       "      <td>white</td>\n",
       "      <td>partial</td>\n",
       "      <td>white</td>\n",
       "      <td>one</td>\n",
       "      <td>evanescent</td>\n",
       "      <td>brown</td>\n",
       "      <td>abundant</td>\n",
       "      <td>grasses</td>\n",
       "    </tr>\n",
       "  </tbody>\n",
       "</table>\n",
       "</div>"
      ],
      "text/plain": [
       "       class cap-shape cap-surface cap-color  bruises     odor  \\\n",
       "0  poisonous    convex      smooth     brown  bruises  pungent   \n",
       "1     edible    convex      smooth    yellow  bruises   almond   \n",
       "2     edible      bell      smooth     white  bruises    anise   \n",
       "3  poisonous    convex       scaly     white  bruises  pungent   \n",
       "4     edible    convex      smooth      gray       no     none   \n",
       "\n",
       "  gill-attachment gill-spacing gill-size gill-color stalk-shape stalk-root  \\\n",
       "0            free        close    narrow      black   enlarging      equal   \n",
       "1            free        close     broad      black   enlarging       club   \n",
       "2            free        close     broad      brown   enlarging       club   \n",
       "3            free        close    narrow      brown   enlarging      equal   \n",
       "4            free      crowded     broad      black    tapering      equal   \n",
       "\n",
       "  stalk-surface-above-ring stalk-surface-below-ring stalk-color-above-ring  \\\n",
       "0                   smooth                   smooth                  white   \n",
       "1                   smooth                   smooth                  white   \n",
       "2                   smooth                   smooth                  white   \n",
       "3                   smooth                   smooth                  white   \n",
       "4                   smooth                   smooth                  white   \n",
       "\n",
       "  stalk-color-below-ring veil-type veil-color ring-number   ring-type  \\\n",
       "0                  white   partial      white         one     pendant   \n",
       "1                  white   partial      white         one     pendant   \n",
       "2                  white   partial      white         one     pendant   \n",
       "3                  white   partial      white         one     pendant   \n",
       "4                  white   partial      white         one  evanescent   \n",
       "\n",
       "  spore-print-color population  habitat  \n",
       "0             black  scattered    urban  \n",
       "1             brown   numerous  grasses  \n",
       "2             brown   numerous  meadows  \n",
       "3             black  scattered    urban  \n",
       "4             brown   abundant  grasses  "
      ]
     },
     "execution_count": 6,
     "metadata": {},
     "output_type": "execute_result"
    }
   ],
   "source": [
    "class_map = {'e': 'edible', 'p': 'poisonous'}\n",
    "shape_map = {'b': 'bell', 'c': 'conical', 'x': 'convex', 'f': 'flat', 'k': 'knobed', 's': 'sunken', 'e': 'enlarging', 't': 'tapering'}\n",
    "surface_map = {'f': 'fibrous','g': 'grooves', 'y': 'scaly', 's': 'smooth', 'k': 'silky'}\n",
    "color_map = {'n': 'brown', 'b': 'buff', 'c': 'cinnamon', 'g': 'gray', 'r': 'green', 'p': 'pink', 'u': 'purple', 'e': 'red',\n",
    "             'w': 'white', 'y': 'yellow', 'h': 'chocolate', 'k': 'black', 'o': 'orange'}\n",
    "odor_map = {'a': 'almond','l': 'anise','c': 'creosote','y': 'fishy','f': 'foul', 'm': 'musty','n': 'none','p': 'pungent','s': 'spicy'}\n",
    "\n",
    "df['class'] = df['class'].map(class_map)\n",
    "df['bruises'] = df['bruises'].map({'t': 'bruises', 'f': 'no'})\n",
    "df['odor'] = df['odor'].map(odor_map)\n",
    "df['gill-attachment'] = df['gill-attachment'].map({'a':'attached','d':'descending','f':'free','n':'notched'})\n",
    "df['gill-spacing'] = df['gill-spacing'].map({'c':'close','w':'crowded','d':'distant'})\n",
    "df['gill-size'] = df['gill-size'].map({'b':'broad','n':'narrow'})\n",
    "df['stalk-root'] = df['stalk-root'].map({'b':'bulbous','c':'club','u':'cup','e':'equal','z':'rhizomorphs','r':'rooted','?':'missing'})\n",
    "df['veil-type'] = df['veil-type'].map({'p':'partial','u':'universal'})\n",
    "df['ring-number'] = df['ring-number'].map({'n':'none','o':'one','t':'two'})\n",
    "df['ring-type'] = df['ring-type'].map({'c':'cobwebby','e':'evanescent','f':'flaring','l':'large','n':'none','p':'pendant','s':'sheathing','z':'zone'})\n",
    "df['population'] = df['population'].map({'a':'abundant','c':'clustered','n':'numerous','s':'scattered','v':'several','y':'solitary'})\n",
    "df['habitat'] = df['habitat'].map({'g':'grasses','l':'leaves','m':'meadows','p':'paths','u':'urban','w':'waste','d':'woods'})\n",
    "    \n",
    "for col in ['cap-shape','stalk-shape']:\n",
    "    df[col] = df[col].map(shape_map)\n",
    "\n",
    "for col in ['cap-surface','stalk-surface-above-ring','stalk-surface-below-ring']:\n",
    "    df[col] = df[col].map(surface_map)\n",
    "\n",
    "color_cols = [col for col in df.columns if 'color' in col]\n",
    "for col in color_cols:\n",
    "    df[col] = df[col].map(color_map)\n",
    "    \n",
    "df.head()"
   ]
  },
  {
   "cell_type": "code",
   "execution_count": 7,
   "metadata": {},
   "outputs": [
    {
     "data": {
      "text/html": [
       "<div>\n",
       "<style scoped>\n",
       "    .dataframe tbody tr th:only-of-type {\n",
       "        vertical-align: middle;\n",
       "    }\n",
       "\n",
       "    .dataframe tbody tr th {\n",
       "        vertical-align: top;\n",
       "    }\n",
       "\n",
       "    .dataframe thead th {\n",
       "        text-align: right;\n",
       "    }\n",
       "</style>\n",
       "<table border=\"1\" class=\"dataframe\">\n",
       "  <thead>\n",
       "    <tr style=\"text-align: right;\">\n",
       "      <th></th>\n",
       "      <th>class</th>\n",
       "      <th>cap-shape</th>\n",
       "      <th>cap-surface</th>\n",
       "      <th>cap-color</th>\n",
       "      <th>bruises</th>\n",
       "      <th>odor</th>\n",
       "      <th>gill-attachment</th>\n",
       "      <th>gill-spacing</th>\n",
       "      <th>gill-size</th>\n",
       "      <th>gill-color</th>\n",
       "      <th>stalk-shape</th>\n",
       "      <th>stalk-root</th>\n",
       "      <th>stalk-surface-above-ring</th>\n",
       "      <th>stalk-surface-below-ring</th>\n",
       "      <th>stalk-color-above-ring</th>\n",
       "      <th>stalk-color-below-ring</th>\n",
       "      <th>veil-type</th>\n",
       "      <th>veil-color</th>\n",
       "      <th>ring-number</th>\n",
       "      <th>ring-type</th>\n",
       "      <th>spore-print-color</th>\n",
       "      <th>population</th>\n",
       "      <th>habitat</th>\n",
       "    </tr>\n",
       "  </thead>\n",
       "  <tbody>\n",
       "    <tr>\n",
       "      <th>count</th>\n",
       "      <td>8124</td>\n",
       "      <td>8124</td>\n",
       "      <td>8124</td>\n",
       "      <td>8124</td>\n",
       "      <td>8124</td>\n",
       "      <td>8124</td>\n",
       "      <td>8124</td>\n",
       "      <td>8124</td>\n",
       "      <td>8124</td>\n",
       "      <td>8124</td>\n",
       "      <td>8124</td>\n",
       "      <td>8124</td>\n",
       "      <td>8124</td>\n",
       "      <td>8124</td>\n",
       "      <td>8124</td>\n",
       "      <td>8124</td>\n",
       "      <td>8124</td>\n",
       "      <td>8124</td>\n",
       "      <td>8124</td>\n",
       "      <td>8124</td>\n",
       "      <td>8124</td>\n",
       "      <td>8124</td>\n",
       "      <td>8124</td>\n",
       "    </tr>\n",
       "    <tr>\n",
       "      <th>unique</th>\n",
       "      <td>2</td>\n",
       "      <td>6</td>\n",
       "      <td>4</td>\n",
       "      <td>10</td>\n",
       "      <td>2</td>\n",
       "      <td>9</td>\n",
       "      <td>2</td>\n",
       "      <td>2</td>\n",
       "      <td>2</td>\n",
       "      <td>12</td>\n",
       "      <td>2</td>\n",
       "      <td>5</td>\n",
       "      <td>4</td>\n",
       "      <td>4</td>\n",
       "      <td>9</td>\n",
       "      <td>9</td>\n",
       "      <td>1</td>\n",
       "      <td>4</td>\n",
       "      <td>3</td>\n",
       "      <td>5</td>\n",
       "      <td>9</td>\n",
       "      <td>6</td>\n",
       "      <td>7</td>\n",
       "    </tr>\n",
       "    <tr>\n",
       "      <th>top</th>\n",
       "      <td>edible</td>\n",
       "      <td>convex</td>\n",
       "      <td>scaly</td>\n",
       "      <td>brown</td>\n",
       "      <td>no</td>\n",
       "      <td>none</td>\n",
       "      <td>free</td>\n",
       "      <td>close</td>\n",
       "      <td>broad</td>\n",
       "      <td>buff</td>\n",
       "      <td>tapering</td>\n",
       "      <td>bulbous</td>\n",
       "      <td>smooth</td>\n",
       "      <td>smooth</td>\n",
       "      <td>white</td>\n",
       "      <td>white</td>\n",
       "      <td>partial</td>\n",
       "      <td>white</td>\n",
       "      <td>one</td>\n",
       "      <td>pendant</td>\n",
       "      <td>white</td>\n",
       "      <td>several</td>\n",
       "      <td>woods</td>\n",
       "    </tr>\n",
       "    <tr>\n",
       "      <th>freq</th>\n",
       "      <td>4208</td>\n",
       "      <td>3656</td>\n",
       "      <td>3244</td>\n",
       "      <td>2284</td>\n",
       "      <td>4748</td>\n",
       "      <td>3528</td>\n",
       "      <td>7914</td>\n",
       "      <td>6812</td>\n",
       "      <td>5612</td>\n",
       "      <td>1728</td>\n",
       "      <td>4608</td>\n",
       "      <td>3776</td>\n",
       "      <td>5176</td>\n",
       "      <td>4936</td>\n",
       "      <td>4464</td>\n",
       "      <td>4384</td>\n",
       "      <td>8124</td>\n",
       "      <td>7924</td>\n",
       "      <td>7488</td>\n",
       "      <td>3968</td>\n",
       "      <td>2388</td>\n",
       "      <td>4040</td>\n",
       "      <td>3148</td>\n",
       "    </tr>\n",
       "  </tbody>\n",
       "</table>\n",
       "</div>"
      ],
      "text/plain": [
       "         class cap-shape cap-surface cap-color bruises  odor gill-attachment  \\\n",
       "count     8124      8124        8124      8124    8124  8124            8124   \n",
       "unique       2         6           4        10       2     9               2   \n",
       "top     edible    convex       scaly     brown      no  none            free   \n",
       "freq      4208      3656        3244      2284    4748  3528            7914   \n",
       "\n",
       "       gill-spacing gill-size gill-color stalk-shape stalk-root  \\\n",
       "count          8124      8124       8124        8124       8124   \n",
       "unique            2         2         12           2          5   \n",
       "top           close     broad       buff    tapering    bulbous   \n",
       "freq           6812      5612       1728        4608       3776   \n",
       "\n",
       "       stalk-surface-above-ring stalk-surface-below-ring  \\\n",
       "count                      8124                     8124   \n",
       "unique                        4                        4   \n",
       "top                      smooth                   smooth   \n",
       "freq                       5176                     4936   \n",
       "\n",
       "       stalk-color-above-ring stalk-color-below-ring veil-type veil-color  \\\n",
       "count                    8124                   8124      8124       8124   \n",
       "unique                      9                      9         1          4   \n",
       "top                     white                  white   partial      white   \n",
       "freq                     4464                   4384      8124       7924   \n",
       "\n",
       "       ring-number ring-type spore-print-color population habitat  \n",
       "count         8124      8124              8124       8124    8124  \n",
       "unique           3         5                 9          6       7  \n",
       "top            one   pendant             white    several   woods  \n",
       "freq          7488      3968              2388       4040    3148  "
      ]
     },
     "execution_count": 7,
     "metadata": {},
     "output_type": "execute_result"
    }
   ],
   "source": [
    "df.describe(include='all')"
   ]
  },
  {
   "cell_type": "markdown",
   "metadata": {},
   "source": [
    "#### Target"
   ]
  },
  {
   "cell_type": "code",
   "execution_count": 8,
   "metadata": {},
   "outputs": [
    {
     "data": {
      "text/plain": [
       "edible       4208\n",
       "poisonous    3916\n",
       "Name: class, dtype: int64"
      ]
     },
     "execution_count": 8,
     "metadata": {},
     "output_type": "execute_result"
    }
   ],
   "source": [
    "df['class'].value_counts()"
   ]
  },
  {
   "cell_type": "markdown",
   "metadata": {
    "heading_collapsed": true
   },
   "source": [
    "#### Features"
   ]
  },
  {
   "cell_type": "code",
   "execution_count": 11,
   "metadata": {
    "hidden": true
   },
   "outputs": [],
   "source": [
    "from utils.plot_utils import *"
   ]
  },
  {
   "cell_type": "code",
   "execution_count": 12,
   "metadata": {
    "hidden": true
   },
   "outputs": [
    {
     "data": {
      "image/png": "[encoded data removed]",
      "text/plain": [
       "<Figure size 1728x504 with 3 Axes>"
      ]
     },
     "metadata": {
      "needs_background": "light"
     },
     "output_type": "display_data"
    }
   ],
   "source": [
    "# Cap\n",
    "\n",
    "countplots_with_multiple_categories(df,'class','cap')"
   ]
  },
  {
   "cell_type": "code",
   "execution_count": 13,
   "metadata": {
    "hidden": true
   },
   "outputs": [
    {
     "data": {
      "text/plain": [
       "<Figure size 720x504 with 0 Axes>"
      ]
     },
     "execution_count": 13,
     "metadata": {},
     "output_type": "execute_result"
    },
    {
     "data": {
      "text/plain": [
       "<matplotlib.axes._subplots.AxesSubplot at 0x1a1c8ed490>"
      ]
     },
     "execution_count": 13,
     "metadata": {},
     "output_type": "execute_result"
    },
    {
     "data": {
      "image/png": "[encoded data removed]",
      "text/plain": [
       "<Figure size 720x504 with 1 Axes>"
      ]
     },
     "metadata": {
      "needs_background": "light"
     },
     "output_type": "display_data"
    }
   ],
   "source": [
    "# Bruises\n",
    "\n",
    "plt.figure(figsize=(10,7))\n",
    "sns.countplot(x='bruises', hue='class', data=df)"
   ]
  },
  {
   "cell_type": "code",
   "execution_count": 14,
   "metadata": {
    "hidden": true
   },
   "outputs": [
    {
     "data": {
      "text/plain": [
       "<Figure size 720x504 with 0 Axes>"
      ]
     },
     "execution_count": 14,
     "metadata": {},
     "output_type": "execute_result"
    },
    {
     "data": {
      "text/plain": [
       "<matplotlib.axes._subplots.AxesSubplot at 0x1a1c914990>"
      ]
     },
     "execution_count": 14,
     "metadata": {},
     "output_type": "execute_result"
    },
    {
     "data": {
      "image/png": "[encoded data removed]",
      "text/plain": [
       "<Figure size 720x504 with 1 Axes>"
      ]
     },
     "metadata": {
      "needs_background": "light"
     },
     "output_type": "display_data"
    }
   ],
   "source": [
    "# Odor\n",
    "\n",
    "plt.figure(figsize=(10,7))\n",
    "sns.countplot(x='odor', hue='class', data=df)"
   ]
  },
  {
   "cell_type": "code",
   "execution_count": 15,
   "metadata": {
    "hidden": true
   },
   "outputs": [
    {
     "data": {
      "image/png": "[encoded data removed]",
      "text/plain": [
       "<Figure size 1728x1728 with 4 Axes>"
      ]
     },
     "metadata": {
      "needs_background": "light"
     },
     "output_type": "display_data"
    }
   ],
   "source": [
    "# Gill\n",
    "\n",
    "countplots_with_multiple_categories(df,'class','gill')"
   ]
  },
  {
   "cell_type": "code",
   "execution_count": 16,
   "metadata": {
    "hidden": true
   },
   "outputs": [
    {
     "data": {
      "text/plain": [
       "<Figure size 720x504 with 0 Axes>"
      ]
     },
     "execution_count": 16,
     "metadata": {},
     "output_type": "execute_result"
    },
    {
     "data": {
      "text/plain": [
       "<matplotlib.axes._subplots.AxesSubplot at 0x1a1c80e750>"
      ]
     },
     "execution_count": 16,
     "metadata": {},
     "output_type": "execute_result"
    },
    {
     "data": {
      "image/png": "[encoded data removed]",
      "text/plain": [
       "<Figure size 720x504 with 1 Axes>"
      ]
     },
     "metadata": {
      "needs_background": "light"
     },
     "output_type": "display_data"
    }
   ],
   "source": [
    "plt.figure(figsize=(10,7))\n",
    "sns.countplot(x='gill-color', hue='class', data=df)"
   ]
  },
  {
   "cell_type": "code",
   "execution_count": 17,
   "metadata": {
    "hidden": true
   },
   "outputs": [
    {
     "data": {
      "image/png": "[encoded data removed]",
      "text/plain": [
       "<Figure size 1728x1728 with 6 Axes>"
      ]
     },
     "metadata": {
      "needs_background": "light"
     },
     "output_type": "display_data"
    }
   ],
   "source": [
    "# Stalk\n",
    "\n",
    "countplots_with_multiple_categories(df,'class','stalk')"
   ]
  },
  {
   "cell_type": "code",
   "execution_count": 18,
   "metadata": {
    "hidden": true
   },
   "outputs": [
    {
     "data": {
      "image/png": "[encoded data removed]",
      "text/plain": [
       "<Figure size 1728x504 with 2 Axes>"
      ]
     },
     "metadata": {
      "needs_background": "light"
     },
     "output_type": "display_data"
    }
   ],
   "source": [
    "# Veil\n",
    "\n",
    "countplots_with_multiple_categories(df,'class','veil')"
   ]
  },
  {
   "cell_type": "code",
   "execution_count": 19,
   "metadata": {
    "hidden": true
   },
   "outputs": [
    {
     "data": {
      "image/png": "[encoded data removed]",
      "text/plain": [
       "<Figure size 1728x1728 with 6 Axes>"
      ]
     },
     "metadata": {
      "needs_background": "light"
     },
     "output_type": "display_data"
    }
   ],
   "source": [
    "# Ring\n",
    "\n",
    "countplots_with_multiple_categories(df,'class','ring')"
   ]
  },
  {
   "cell_type": "code",
   "execution_count": 20,
   "metadata": {
    "hidden": true
   },
   "outputs": [
    {
     "data": {
      "text/plain": [
       "<Figure size 720x504 with 0 Axes>"
      ]
     },
     "execution_count": 20,
     "metadata": {},
     "output_type": "execute_result"
    },
    {
     "data": {
      "text/plain": [
       "<matplotlib.axes._subplots.AxesSubplot at 0x1a1faebf50>"
      ]
     },
     "execution_count": 20,
     "metadata": {},
     "output_type": "execute_result"
    },
    {
     "data": {
      "image/png": "[encoded data removed]",
      "text/plain": [
       "<Figure size 720x504 with 1 Axes>"
      ]
     },
     "metadata": {
      "needs_background": "light"
     },
     "output_type": "display_data"
    }
   ],
   "source": [
    "# Spore\n",
    "\n",
    "plt.figure(figsize=(10,7))\n",
    "sns.countplot(x='spore-print-color', hue='class', data=df)"
   ]
  },
  {
   "cell_type": "code",
   "execution_count": 21,
   "metadata": {
    "hidden": true
   },
   "outputs": [
    {
     "data": {
      "text/plain": [
       "<Figure size 720x504 with 0 Axes>"
      ]
     },
     "execution_count": 21,
     "metadata": {},
     "output_type": "execute_result"
    },
    {
     "data": {
      "text/plain": [
       "<matplotlib.axes._subplots.AxesSubplot at 0x1a1fcadf50>"
      ]
     },
     "execution_count": 21,
     "metadata": {},
     "output_type": "execute_result"
    },
    {
     "data": {
      "image/png": "[encoded data removed]",
      "text/plain": [
       "<Figure size 720x504 with 1 Axes>"
      ]
     },
     "metadata": {
      "needs_background": "light"
     },
     "output_type": "display_data"
    }
   ],
   "source": [
    "# Population\n",
    "\n",
    "plt.figure(figsize=(10,7))\n",
    "sns.countplot(x='population', hue='class', data=df)"
   ]
  },
  {
   "cell_type": "code",
   "execution_count": 22,
   "metadata": {
    "hidden": true
   },
   "outputs": [
    {
     "data": {
      "text/plain": [
       "<Figure size 720x504 with 0 Axes>"
      ]
     },
     "execution_count": 22,
     "metadata": {},
     "output_type": "execute_result"
    },
    {
     "data": {
      "text/plain": [
       "<matplotlib.axes._subplots.AxesSubplot at 0x1a1c765650>"
      ]
     },
     "execution_count": 22,
     "metadata": {},
     "output_type": "execute_result"
    },
    {
     "data": {
      "image/png": "[encoded data removed]",
      "text/plain": [
       "<Figure size 720x504 with 1 Axes>"
      ]
     },
     "metadata": {
      "needs_background": "light"
     },
     "output_type": "display_data"
    }
   ],
   "source": [
    "# Habitat\n",
    "\n",
    "plt.figure(figsize=(10,7))\n",
    "sns.countplot(x='habitat', hue='class', data=df)"
   ]
  },
  {
   "cell_type": "markdown",
   "metadata": {},
   "source": [
    "### Preprocess"
   ]
  },
  {
   "cell_type": "code",
   "execution_count": 32,
   "metadata": {},
   "outputs": [],
   "source": [
    "# separate target and features\n",
    "\n",
    "X=df.drop('class',axis=1)\n",
    "y=df['class']"
   ]
  },
  {
   "cell_type": "code",
   "execution_count": 33,
   "metadata": {},
   "outputs": [
    {
     "data": {
      "text/html": [
       "<div>\n",
       "<style scoped>\n",
       "    .dataframe tbody tr th:only-of-type {\n",
       "        vertical-align: middle;\n",
       "    }\n",
       "\n",
       "    .dataframe tbody tr th {\n",
       "        vertical-align: top;\n",
       "    }\n",
       "\n",
       "    .dataframe thead th {\n",
       "        text-align: right;\n",
       "    }\n",
       "</style>\n",
       "<table border=\"1\" class=\"dataframe\">\n",
       "  <thead>\n",
       "    <tr style=\"text-align: right;\">\n",
       "      <th></th>\n",
       "      <th>cap-shape</th>\n",
       "      <th>cap-surface</th>\n",
       "      <th>cap-color</th>\n",
       "      <th>bruises</th>\n",
       "      <th>odor</th>\n",
       "      <th>gill-attachment</th>\n",
       "      <th>gill-spacing</th>\n",
       "      <th>gill-size</th>\n",
       "      <th>gill-color</th>\n",
       "      <th>stalk-shape</th>\n",
       "      <th>stalk-root</th>\n",
       "      <th>stalk-surface-above-ring</th>\n",
       "      <th>stalk-surface-below-ring</th>\n",
       "      <th>stalk-color-above-ring</th>\n",
       "      <th>stalk-color-below-ring</th>\n",
       "      <th>veil-type</th>\n",
       "      <th>veil-color</th>\n",
       "      <th>ring-number</th>\n",
       "      <th>ring-type</th>\n",
       "      <th>spore-print-color</th>\n",
       "      <th>population</th>\n",
       "      <th>habitat</th>\n",
       "    </tr>\n",
       "  </thead>\n",
       "  <tbody>\n",
       "    <tr>\n",
       "      <th>0</th>\n",
       "      <td>2</td>\n",
       "      <td>3</td>\n",
       "      <td>0</td>\n",
       "      <td>0</td>\n",
       "      <td>7</td>\n",
       "      <td>1</td>\n",
       "      <td>0</td>\n",
       "      <td>1</td>\n",
       "      <td>0</td>\n",
       "      <td>0</td>\n",
       "      <td>2</td>\n",
       "      <td>3</td>\n",
       "      <td>3</td>\n",
       "      <td>7</td>\n",
       "      <td>7</td>\n",
       "      <td>0</td>\n",
       "      <td>2</td>\n",
       "      <td>1</td>\n",
       "      <td>4</td>\n",
       "      <td>0</td>\n",
       "      <td>3</td>\n",
       "      <td>4</td>\n",
       "    </tr>\n",
       "    <tr>\n",
       "      <th>1</th>\n",
       "      <td>2</td>\n",
       "      <td>3</td>\n",
       "      <td>9</td>\n",
       "      <td>0</td>\n",
       "      <td>0</td>\n",
       "      <td>1</td>\n",
       "      <td>0</td>\n",
       "      <td>0</td>\n",
       "      <td>0</td>\n",
       "      <td>0</td>\n",
       "      <td>1</td>\n",
       "      <td>3</td>\n",
       "      <td>3</td>\n",
       "      <td>7</td>\n",
       "      <td>7</td>\n",
       "      <td>0</td>\n",
       "      <td>2</td>\n",
       "      <td>1</td>\n",
       "      <td>4</td>\n",
       "      <td>1</td>\n",
       "      <td>2</td>\n",
       "      <td>0</td>\n",
       "    </tr>\n",
       "    <tr>\n",
       "      <th>2</th>\n",
       "      <td>0</td>\n",
       "      <td>3</td>\n",
       "      <td>8</td>\n",
       "      <td>0</td>\n",
       "      <td>1</td>\n",
       "      <td>1</td>\n",
       "      <td>0</td>\n",
       "      <td>0</td>\n",
       "      <td>1</td>\n",
       "      <td>0</td>\n",
       "      <td>1</td>\n",
       "      <td>3</td>\n",
       "      <td>3</td>\n",
       "      <td>7</td>\n",
       "      <td>7</td>\n",
       "      <td>0</td>\n",
       "      <td>2</td>\n",
       "      <td>1</td>\n",
       "      <td>4</td>\n",
       "      <td>1</td>\n",
       "      <td>2</td>\n",
       "      <td>2</td>\n",
       "    </tr>\n",
       "    <tr>\n",
       "      <th>3</th>\n",
       "      <td>2</td>\n",
       "      <td>2</td>\n",
       "      <td>8</td>\n",
       "      <td>0</td>\n",
       "      <td>7</td>\n",
       "      <td>1</td>\n",
       "      <td>0</td>\n",
       "      <td>1</td>\n",
       "      <td>1</td>\n",
       "      <td>0</td>\n",
       "      <td>2</td>\n",
       "      <td>3</td>\n",
       "      <td>3</td>\n",
       "      <td>7</td>\n",
       "      <td>7</td>\n",
       "      <td>0</td>\n",
       "      <td>2</td>\n",
       "      <td>1</td>\n",
       "      <td>4</td>\n",
       "      <td>0</td>\n",
       "      <td>3</td>\n",
       "      <td>4</td>\n",
       "    </tr>\n",
       "    <tr>\n",
       "      <th>4</th>\n",
       "      <td>2</td>\n",
       "      <td>3</td>\n",
       "      <td>3</td>\n",
       "      <td>1</td>\n",
       "      <td>6</td>\n",
       "      <td>1</td>\n",
       "      <td>1</td>\n",
       "      <td>0</td>\n",
       "      <td>0</td>\n",
       "      <td>1</td>\n",
       "      <td>2</td>\n",
       "      <td>3</td>\n",
       "      <td>3</td>\n",
       "      <td>7</td>\n",
       "      <td>7</td>\n",
       "      <td>0</td>\n",
       "      <td>2</td>\n",
       "      <td>1</td>\n",
       "      <td>0</td>\n",
       "      <td>1</td>\n",
       "      <td>0</td>\n",
       "      <td>0</td>\n",
       "    </tr>\n",
       "  </tbody>\n",
       "</table>\n",
       "</div>"
      ],
      "text/plain": [
       "   cap-shape  cap-surface  cap-color  bruises  odor  gill-attachment  \\\n",
       "0          2            3          0        0     7                1   \n",
       "1          2            3          9        0     0                1   \n",
       "2          0            3          8        0     1                1   \n",
       "3          2            2          8        0     7                1   \n",
       "4          2            3          3        1     6                1   \n",
       "\n",
       "   gill-spacing  gill-size  gill-color  stalk-shape  stalk-root  \\\n",
       "0             0          1           0            0           2   \n",
       "1             0          0           0            0           1   \n",
       "2             0          0           1            0           1   \n",
       "3             0          1           1            0           2   \n",
       "4             1          0           0            1           2   \n",
       "\n",
       "   stalk-surface-above-ring  stalk-surface-below-ring  stalk-color-above-ring  \\\n",
       "0                         3                         3                       7   \n",
       "1                         3                         3                       7   \n",
       "2                         3                         3                       7   \n",
       "3                         3                         3                       7   \n",
       "4                         3                         3                       7   \n",
       "\n",
       "   stalk-color-below-ring  veil-type  veil-color  ring-number  ring-type  \\\n",
       "0                       7          0           2            1          4   \n",
       "1                       7          0           2            1          4   \n",
       "2                       7          0           2            1          4   \n",
       "3                       7          0           2            1          4   \n",
       "4                       7          0           2            1          0   \n",
       "\n",
       "   spore-print-color  population  habitat  \n",
       "0                  0           3        4  \n",
       "1                  1           2        0  \n",
       "2                  1           2        2  \n",
       "3                  0           3        4  \n",
       "4                  1           0        0  "
      ]
     },
     "execution_count": 33,
     "metadata": {},
     "output_type": "execute_result"
    },
    {
     "data": {
      "text/plain": [
       "array([1, 0, 0, ..., 0, 1, 0])"
      ]
     },
     "execution_count": 33,
     "metadata": {},
     "output_type": "execute_result"
    }
   ],
   "source": [
    "# encode\n",
    "\n",
    "from sklearn.preprocessing import LabelEncoder\n",
    "\n",
    "Encoder_X = LabelEncoder() \n",
    "\n",
    "for col in X.columns:\n",
    "    X[col] = Encoder_X.fit_transform(X[col])\n",
    "    \n",
    "Encoder_y=LabelEncoder()\n",
    "y = Encoder_y.fit_transform(y)\n",
    "\n",
    "X.head()\n",
    "y"
   ]
  },
  {
   "cell_type": "code",
   "execution_count": 34,
   "metadata": {},
   "outputs": [
    {
     "data": {
      "text/html": [
       "<div>\n",
       "<style scoped>\n",
       "    .dataframe tbody tr th:only-of-type {\n",
       "        vertical-align: middle;\n",
       "    }\n",
       "\n",
       "    .dataframe tbody tr th {\n",
       "        vertical-align: top;\n",
       "    }\n",
       "\n",
       "    .dataframe thead th {\n",
       "        text-align: right;\n",
       "    }\n",
       "</style>\n",
       "<table border=\"1\" class=\"dataframe\">\n",
       "  <thead>\n",
       "    <tr style=\"text-align: right;\">\n",
       "      <th></th>\n",
       "      <th>cap-shape_1</th>\n",
       "      <th>cap-shape_2</th>\n",
       "      <th>cap-shape_3</th>\n",
       "      <th>cap-shape_4</th>\n",
       "      <th>cap-shape_5</th>\n",
       "      <th>cap-surface_1</th>\n",
       "      <th>cap-surface_2</th>\n",
       "      <th>cap-surface_3</th>\n",
       "      <th>cap-color_1</th>\n",
       "      <th>cap-color_2</th>\n",
       "      <th>cap-color_3</th>\n",
       "      <th>cap-color_4</th>\n",
       "      <th>cap-color_5</th>\n",
       "      <th>cap-color_6</th>\n",
       "      <th>cap-color_7</th>\n",
       "      <th>cap-color_8</th>\n",
       "      <th>cap-color_9</th>\n",
       "      <th>bruises_1</th>\n",
       "      <th>odor_1</th>\n",
       "      <th>odor_2</th>\n",
       "      <th>odor_3</th>\n",
       "      <th>odor_4</th>\n",
       "      <th>odor_5</th>\n",
       "      <th>odor_6</th>\n",
       "      <th>odor_7</th>\n",
       "      <th>odor_8</th>\n",
       "      <th>gill-attachment_1</th>\n",
       "      <th>gill-spacing_1</th>\n",
       "      <th>gill-size_1</th>\n",
       "      <th>gill-color_1</th>\n",
       "      <th>gill-color_2</th>\n",
       "      <th>gill-color_3</th>\n",
       "      <th>gill-color_4</th>\n",
       "      <th>gill-color_5</th>\n",
       "      <th>gill-color_6</th>\n",
       "      <th>gill-color_7</th>\n",
       "      <th>gill-color_8</th>\n",
       "      <th>gill-color_9</th>\n",
       "      <th>gill-color_10</th>\n",
       "      <th>gill-color_11</th>\n",
       "      <th>stalk-shape_1</th>\n",
       "      <th>stalk-root_1</th>\n",
       "      <th>stalk-root_2</th>\n",
       "      <th>stalk-root_3</th>\n",
       "      <th>stalk-root_4</th>\n",
       "      <th>stalk-surface-above-ring_1</th>\n",
       "      <th>stalk-surface-above-ring_2</th>\n",
       "      <th>stalk-surface-above-ring_3</th>\n",
       "      <th>stalk-surface-below-ring_1</th>\n",
       "      <th>stalk-surface-below-ring_2</th>\n",
       "      <th>stalk-surface-below-ring_3</th>\n",
       "      <th>stalk-color-above-ring_1</th>\n",
       "      <th>stalk-color-above-ring_2</th>\n",
       "      <th>stalk-color-above-ring_3</th>\n",
       "      <th>stalk-color-above-ring_4</th>\n",
       "      <th>stalk-color-above-ring_5</th>\n",
       "      <th>stalk-color-above-ring_6</th>\n",
       "      <th>stalk-color-above-ring_7</th>\n",
       "      <th>stalk-color-above-ring_8</th>\n",
       "      <th>stalk-color-below-ring_1</th>\n",
       "      <th>stalk-color-below-ring_2</th>\n",
       "      <th>stalk-color-below-ring_3</th>\n",
       "      <th>stalk-color-below-ring_4</th>\n",
       "      <th>stalk-color-below-ring_5</th>\n",
       "      <th>stalk-color-below-ring_6</th>\n",
       "      <th>stalk-color-below-ring_7</th>\n",
       "      <th>stalk-color-below-ring_8</th>\n",
       "      <th>veil-color_1</th>\n",
       "      <th>veil-color_2</th>\n",
       "      <th>veil-color_3</th>\n",
       "      <th>ring-number_1</th>\n",
       "      <th>ring-number_2</th>\n",
       "      <th>ring-type_1</th>\n",
       "      <th>ring-type_2</th>\n",
       "      <th>ring-type_3</th>\n",
       "      <th>ring-type_4</th>\n",
       "      <th>spore-print-color_1</th>\n",
       "      <th>spore-print-color_2</th>\n",
       "      <th>spore-print-color_3</th>\n",
       "      <th>spore-print-color_4</th>\n",
       "      <th>spore-print-color_5</th>\n",
       "      <th>spore-print-color_6</th>\n",
       "      <th>spore-print-color_7</th>\n",
       "      <th>spore-print-color_8</th>\n",
       "      <th>population_1</th>\n",
       "      <th>population_2</th>\n",
       "      <th>population_3</th>\n",
       "      <th>population_4</th>\n",
       "      <th>population_5</th>\n",
       "      <th>habitat_1</th>\n",
       "      <th>habitat_2</th>\n",
       "      <th>habitat_3</th>\n",
       "      <th>habitat_4</th>\n",
       "      <th>habitat_5</th>\n",
       "      <th>habitat_6</th>\n",
       "    </tr>\n",
       "  </thead>\n",
       "  <tbody>\n",
       "    <tr>\n",
       "      <th>0</th>\n",
       "      <td>0</td>\n",
       "      <td>1</td>\n",
       "      <td>0</td>\n",
       "      <td>0</td>\n",
       "      <td>0</td>\n",
       "      <td>0</td>\n",
       "      <td>0</td>\n",
       "      <td>1</td>\n",
       "      <td>0</td>\n",
       "      <td>0</td>\n",
       "      <td>0</td>\n",
       "      <td>0</td>\n",
       "      <td>0</td>\n",
       "      <td>0</td>\n",
       "      <td>0</td>\n",
       "      <td>0</td>\n",
       "      <td>0</td>\n",
       "      <td>0</td>\n",
       "      <td>0</td>\n",
       "      <td>0</td>\n",
       "      <td>0</td>\n",
       "      <td>0</td>\n",
       "      <td>0</td>\n",
       "      <td>0</td>\n",
       "      <td>1</td>\n",
       "      <td>0</td>\n",
       "      <td>1</td>\n",
       "      <td>0</td>\n",
       "      <td>1</td>\n",
       "      <td>0</td>\n",
       "      <td>0</td>\n",
       "      <td>0</td>\n",
       "      <td>0</td>\n",
       "      <td>0</td>\n",
       "      <td>0</td>\n",
       "      <td>0</td>\n",
       "      <td>0</td>\n",
       "      <td>0</td>\n",
       "      <td>0</td>\n",
       "      <td>0</td>\n",
       "      <td>0</td>\n",
       "      <td>0</td>\n",
       "      <td>1</td>\n",
       "      <td>0</td>\n",
       "      <td>0</td>\n",
       "      <td>0</td>\n",
       "      <td>0</td>\n",
       "      <td>1</td>\n",
       "      <td>0</td>\n",
       "      <td>0</td>\n",
       "      <td>1</td>\n",
       "      <td>0</td>\n",
       "      <td>0</td>\n",
       "      <td>0</td>\n",
       "      <td>0</td>\n",
       "      <td>0</td>\n",
       "      <td>0</td>\n",
       "      <td>1</td>\n",
       "      <td>0</td>\n",
       "      <td>0</td>\n",
       "      <td>0</td>\n",
       "      <td>0</td>\n",
       "      <td>0</td>\n",
       "      <td>0</td>\n",
       "      <td>0</td>\n",
       "      <td>1</td>\n",
       "      <td>0</td>\n",
       "      <td>0</td>\n",
       "      <td>1</td>\n",
       "      <td>0</td>\n",
       "      <td>1</td>\n",
       "      <td>0</td>\n",
       "      <td>0</td>\n",
       "      <td>0</td>\n",
       "      <td>0</td>\n",
       "      <td>1</td>\n",
       "      <td>0</td>\n",
       "      <td>0</td>\n",
       "      <td>0</td>\n",
       "      <td>0</td>\n",
       "      <td>0</td>\n",
       "      <td>0</td>\n",
       "      <td>0</td>\n",
       "      <td>0</td>\n",
       "      <td>0</td>\n",
       "      <td>0</td>\n",
       "      <td>1</td>\n",
       "      <td>0</td>\n",
       "      <td>0</td>\n",
       "      <td>0</td>\n",
       "      <td>0</td>\n",
       "      <td>0</td>\n",
       "      <td>1</td>\n",
       "      <td>0</td>\n",
       "      <td>0</td>\n",
       "    </tr>\n",
       "    <tr>\n",
       "      <th>1</th>\n",
       "      <td>0</td>\n",
       "      <td>1</td>\n",
       "      <td>0</td>\n",
       "      <td>0</td>\n",
       "      <td>0</td>\n",
       "      <td>0</td>\n",
       "      <td>0</td>\n",
       "      <td>1</td>\n",
       "      <td>0</td>\n",
       "      <td>0</td>\n",
       "      <td>0</td>\n",
       "      <td>0</td>\n",
       "      <td>0</td>\n",
       "      <td>0</td>\n",
       "      <td>0</td>\n",
       "      <td>0</td>\n",
       "      <td>1</td>\n",
       "      <td>0</td>\n",
       "      <td>0</td>\n",
       "      <td>0</td>\n",
       "      <td>0</td>\n",
       "      <td>0</td>\n",
       "      <td>0</td>\n",
       "      <td>0</td>\n",
       "      <td>0</td>\n",
       "      <td>0</td>\n",
       "      <td>1</td>\n",
       "      <td>0</td>\n",
       "      <td>0</td>\n",
       "      <td>0</td>\n",
       "      <td>0</td>\n",
       "      <td>0</td>\n",
       "      <td>0</td>\n",
       "      <td>0</td>\n",
       "      <td>0</td>\n",
       "      <td>0</td>\n",
       "      <td>0</td>\n",
       "      <td>0</td>\n",
       "      <td>0</td>\n",
       "      <td>0</td>\n",
       "      <td>0</td>\n",
       "      <td>1</td>\n",
       "      <td>0</td>\n",
       "      <td>0</td>\n",
       "      <td>0</td>\n",
       "      <td>0</td>\n",
       "      <td>0</td>\n",
       "      <td>1</td>\n",
       "      <td>0</td>\n",
       "      <td>0</td>\n",
       "      <td>1</td>\n",
       "      <td>0</td>\n",
       "      <td>0</td>\n",
       "      <td>0</td>\n",
       "      <td>0</td>\n",
       "      <td>0</td>\n",
       "      <td>0</td>\n",
       "      <td>1</td>\n",
       "      <td>0</td>\n",
       "      <td>0</td>\n",
       "      <td>0</td>\n",
       "      <td>0</td>\n",
       "      <td>0</td>\n",
       "      <td>0</td>\n",
       "      <td>0</td>\n",
       "      <td>1</td>\n",
       "      <td>0</td>\n",
       "      <td>0</td>\n",
       "      <td>1</td>\n",
       "      <td>0</td>\n",
       "      <td>1</td>\n",
       "      <td>0</td>\n",
       "      <td>0</td>\n",
       "      <td>0</td>\n",
       "      <td>0</td>\n",
       "      <td>1</td>\n",
       "      <td>1</td>\n",
       "      <td>0</td>\n",
       "      <td>0</td>\n",
       "      <td>0</td>\n",
       "      <td>0</td>\n",
       "      <td>0</td>\n",
       "      <td>0</td>\n",
       "      <td>0</td>\n",
       "      <td>0</td>\n",
       "      <td>1</td>\n",
       "      <td>0</td>\n",
       "      <td>0</td>\n",
       "      <td>0</td>\n",
       "      <td>0</td>\n",
       "      <td>0</td>\n",
       "      <td>0</td>\n",
       "      <td>0</td>\n",
       "      <td>0</td>\n",
       "      <td>0</td>\n",
       "    </tr>\n",
       "    <tr>\n",
       "      <th>2</th>\n",
       "      <td>0</td>\n",
       "      <td>0</td>\n",
       "      <td>0</td>\n",
       "      <td>0</td>\n",
       "      <td>0</td>\n",
       "      <td>0</td>\n",
       "      <td>0</td>\n",
       "      <td>1</td>\n",
       "      <td>0</td>\n",
       "      <td>0</td>\n",
       "      <td>0</td>\n",
       "      <td>0</td>\n",
       "      <td>0</td>\n",
       "      <td>0</td>\n",
       "      <td>0</td>\n",
       "      <td>1</td>\n",
       "      <td>0</td>\n",
       "      <td>0</td>\n",
       "      <td>1</td>\n",
       "      <td>0</td>\n",
       "      <td>0</td>\n",
       "      <td>0</td>\n",
       "      <td>0</td>\n",
       "      <td>0</td>\n",
       "      <td>0</td>\n",
       "      <td>0</td>\n",
       "      <td>1</td>\n",
       "      <td>0</td>\n",
       "      <td>0</td>\n",
       "      <td>1</td>\n",
       "      <td>0</td>\n",
       "      <td>0</td>\n",
       "      <td>0</td>\n",
       "      <td>0</td>\n",
       "      <td>0</td>\n",
       "      <td>0</td>\n",
       "      <td>0</td>\n",
       "      <td>0</td>\n",
       "      <td>0</td>\n",
       "      <td>0</td>\n",
       "      <td>0</td>\n",
       "      <td>1</td>\n",
       "      <td>0</td>\n",
       "      <td>0</td>\n",
       "      <td>0</td>\n",
       "      <td>0</td>\n",
       "      <td>0</td>\n",
       "      <td>1</td>\n",
       "      <td>0</td>\n",
       "      <td>0</td>\n",
       "      <td>1</td>\n",
       "      <td>0</td>\n",
       "      <td>0</td>\n",
       "      <td>0</td>\n",
       "      <td>0</td>\n",
       "      <td>0</td>\n",
       "      <td>0</td>\n",
       "      <td>1</td>\n",
       "      <td>0</td>\n",
       "      <td>0</td>\n",
       "      <td>0</td>\n",
       "      <td>0</td>\n",
       "      <td>0</td>\n",
       "      <td>0</td>\n",
       "      <td>0</td>\n",
       "      <td>1</td>\n",
       "      <td>0</td>\n",
       "      <td>0</td>\n",
       "      <td>1</td>\n",
       "      <td>0</td>\n",
       "      <td>1</td>\n",
       "      <td>0</td>\n",
       "      <td>0</td>\n",
       "      <td>0</td>\n",
       "      <td>0</td>\n",
       "      <td>1</td>\n",
       "      <td>1</td>\n",
       "      <td>0</td>\n",
       "      <td>0</td>\n",
       "      <td>0</td>\n",
       "      <td>0</td>\n",
       "      <td>0</td>\n",
       "      <td>0</td>\n",
       "      <td>0</td>\n",
       "      <td>0</td>\n",
       "      <td>1</td>\n",
       "      <td>0</td>\n",
       "      <td>0</td>\n",
       "      <td>0</td>\n",
       "      <td>0</td>\n",
       "      <td>1</td>\n",
       "      <td>0</td>\n",
       "      <td>0</td>\n",
       "      <td>0</td>\n",
       "      <td>0</td>\n",
       "    </tr>\n",
       "    <tr>\n",
       "      <th>3</th>\n",
       "      <td>0</td>\n",
       "      <td>1</td>\n",
       "      <td>0</td>\n",
       "      <td>0</td>\n",
       "      <td>0</td>\n",
       "      <td>0</td>\n",
       "      <td>1</td>\n",
       "      <td>0</td>\n",
       "      <td>0</td>\n",
       "      <td>0</td>\n",
       "      <td>0</td>\n",
       "      <td>0</td>\n",
       "      <td>0</td>\n",
       "      <td>0</td>\n",
       "      <td>0</td>\n",
       "      <td>1</td>\n",
       "      <td>0</td>\n",
       "      <td>0</td>\n",
       "      <td>0</td>\n",
       "      <td>0</td>\n",
       "      <td>0</td>\n",
       "      <td>0</td>\n",
       "      <td>0</td>\n",
       "      <td>0</td>\n",
       "      <td>1</td>\n",
       "      <td>0</td>\n",
       "      <td>1</td>\n",
       "      <td>0</td>\n",
       "      <td>1</td>\n",
       "      <td>1</td>\n",
       "      <td>0</td>\n",
       "      <td>0</td>\n",
       "      <td>0</td>\n",
       "      <td>0</td>\n",
       "      <td>0</td>\n",
       "      <td>0</td>\n",
       "      <td>0</td>\n",
       "      <td>0</td>\n",
       "      <td>0</td>\n",
       "      <td>0</td>\n",
       "      <td>0</td>\n",
       "      <td>0</td>\n",
       "      <td>1</td>\n",
       "      <td>0</td>\n",
       "      <td>0</td>\n",
       "      <td>0</td>\n",
       "      <td>0</td>\n",
       "      <td>1</td>\n",
       "      <td>0</td>\n",
       "      <td>0</td>\n",
       "      <td>1</td>\n",
       "      <td>0</td>\n",
       "      <td>0</td>\n",
       "      <td>0</td>\n",
       "      <td>0</td>\n",
       "      <td>0</td>\n",
       "      <td>0</td>\n",
       "      <td>1</td>\n",
       "      <td>0</td>\n",
       "      <td>0</td>\n",
       "      <td>0</td>\n",
       "      <td>0</td>\n",
       "      <td>0</td>\n",
       "      <td>0</td>\n",
       "      <td>0</td>\n",
       "      <td>1</td>\n",
       "      <td>0</td>\n",
       "      <td>0</td>\n",
       "      <td>1</td>\n",
       "      <td>0</td>\n",
       "      <td>1</td>\n",
       "      <td>0</td>\n",
       "      <td>0</td>\n",
       "      <td>0</td>\n",
       "      <td>0</td>\n",
       "      <td>1</td>\n",
       "      <td>0</td>\n",
       "      <td>0</td>\n",
       "      <td>0</td>\n",
       "      <td>0</td>\n",
       "      <td>0</td>\n",
       "      <td>0</td>\n",
       "      <td>0</td>\n",
       "      <td>0</td>\n",
       "      <td>0</td>\n",
       "      <td>0</td>\n",
       "      <td>1</td>\n",
       "      <td>0</td>\n",
       "      <td>0</td>\n",
       "      <td>0</td>\n",
       "      <td>0</td>\n",
       "      <td>0</td>\n",
       "      <td>1</td>\n",
       "      <td>0</td>\n",
       "      <td>0</td>\n",
       "    </tr>\n",
       "    <tr>\n",
       "      <th>4</th>\n",
       "      <td>0</td>\n",
       "      <td>1</td>\n",
       "      <td>0</td>\n",
       "      <td>0</td>\n",
       "      <td>0</td>\n",
       "      <td>0</td>\n",
       "      <td>0</td>\n",
       "      <td>1</td>\n",
       "      <td>0</td>\n",
       "      <td>0</td>\n",
       "      <td>1</td>\n",
       "      <td>0</td>\n",
       "      <td>0</td>\n",
       "      <td>0</td>\n",
       "      <td>0</td>\n",
       "      <td>0</td>\n",
       "      <td>0</td>\n",
       "      <td>1</td>\n",
       "      <td>0</td>\n",
       "      <td>0</td>\n",
       "      <td>0</td>\n",
       "      <td>0</td>\n",
       "      <td>0</td>\n",
       "      <td>1</td>\n",
       "      <td>0</td>\n",
       "      <td>0</td>\n",
       "      <td>1</td>\n",
       "      <td>1</td>\n",
       "      <td>0</td>\n",
       "      <td>0</td>\n",
       "      <td>0</td>\n",
       "      <td>0</td>\n",
       "      <td>0</td>\n",
       "      <td>0</td>\n",
       "      <td>0</td>\n",
       "      <td>0</td>\n",
       "      <td>0</td>\n",
       "      <td>0</td>\n",
       "      <td>0</td>\n",
       "      <td>0</td>\n",
       "      <td>1</td>\n",
       "      <td>0</td>\n",
       "      <td>1</td>\n",
       "      <td>0</td>\n",
       "      <td>0</td>\n",
       "      <td>0</td>\n",
       "      <td>0</td>\n",
       "      <td>1</td>\n",
       "      <td>0</td>\n",
       "      <td>0</td>\n",
       "      <td>1</td>\n",
       "      <td>0</td>\n",
       "      <td>0</td>\n",
       "      <td>0</td>\n",
       "      <td>0</td>\n",
       "      <td>0</td>\n",
       "      <td>0</td>\n",
       "      <td>1</td>\n",
       "      <td>0</td>\n",
       "      <td>0</td>\n",
       "      <td>0</td>\n",
       "      <td>0</td>\n",
       "      <td>0</td>\n",
       "      <td>0</td>\n",
       "      <td>0</td>\n",
       "      <td>1</td>\n",
       "      <td>0</td>\n",
       "      <td>0</td>\n",
       "      <td>1</td>\n",
       "      <td>0</td>\n",
       "      <td>1</td>\n",
       "      <td>0</td>\n",
       "      <td>0</td>\n",
       "      <td>0</td>\n",
       "      <td>0</td>\n",
       "      <td>0</td>\n",
       "      <td>1</td>\n",
       "      <td>0</td>\n",
       "      <td>0</td>\n",
       "      <td>0</td>\n",
       "      <td>0</td>\n",
       "      <td>0</td>\n",
       "      <td>0</td>\n",
       "      <td>0</td>\n",
       "      <td>0</td>\n",
       "      <td>0</td>\n",
       "      <td>0</td>\n",
       "      <td>0</td>\n",
       "      <td>0</td>\n",
       "      <td>0</td>\n",
       "      <td>0</td>\n",
       "      <td>0</td>\n",
       "      <td>0</td>\n",
       "      <td>0</td>\n",
       "      <td>0</td>\n",
       "    </tr>\n",
       "  </tbody>\n",
       "</table>\n",
       "</div>"
      ],
      "text/plain": [
       "   cap-shape_1  cap-shape_2  cap-shape_3  cap-shape_4  cap-shape_5  \\\n",
       "0            0            1            0            0            0   \n",
       "1            0            1            0            0            0   \n",
       "2            0            0            0            0            0   \n",
       "3            0            1            0            0            0   \n",
       "4            0            1            0            0            0   \n",
       "\n",
       "   cap-surface_1  cap-surface_2  cap-surface_3  cap-color_1  cap-color_2  \\\n",
       "0              0              0              1            0            0   \n",
       "1              0              0              1            0            0   \n",
       "2              0              0              1            0            0   \n",
       "3              0              1              0            0            0   \n",
       "4              0              0              1            0            0   \n",
       "\n",
       "   cap-color_3  cap-color_4  cap-color_5  cap-color_6  cap-color_7  \\\n",
       "0            0            0            0            0            0   \n",
       "1            0            0            0            0            0   \n",
       "2            0            0            0            0            0   \n",
       "3            0            0            0            0            0   \n",
       "4            1            0            0            0            0   \n",
       "\n",
       "   cap-color_8  cap-color_9  bruises_1  odor_1  odor_2  odor_3  odor_4  \\\n",
       "0            0            0          0       0       0       0       0   \n",
       "1            0            1          0       0       0       0       0   \n",
       "2            1            0          0       1       0       0       0   \n",
       "3            1            0          0       0       0       0       0   \n",
       "4            0            0          1       0       0       0       0   \n",
       "\n",
       "   odor_5  odor_6  odor_7  odor_8  gill-attachment_1  gill-spacing_1  \\\n",
       "0       0       0       1       0                  1               0   \n",
       "1       0       0       0       0                  1               0   \n",
       "2       0       0       0       0                  1               0   \n",
       "3       0       0       1       0                  1               0   \n",
       "4       0       1       0       0                  1               1   \n",
       "\n",
       "   gill-size_1  gill-color_1  gill-color_2  gill-color_3  gill-color_4  \\\n",
       "0            1             0             0             0             0   \n",
       "1            0             0             0             0             0   \n",
       "2            0             1             0             0             0   \n",
       "3            1             1             0             0             0   \n",
       "4            0             0             0             0             0   \n",
       "\n",
       "   gill-color_5  gill-color_6  gill-color_7  gill-color_8  gill-color_9  \\\n",
       "0             0             0             0             0             0   \n",
       "1             0             0             0             0             0   \n",
       "2             0             0             0             0             0   \n",
       "3             0             0             0             0             0   \n",
       "4             0             0             0             0             0   \n",
       "\n",
       "   gill-color_10  gill-color_11  stalk-shape_1  stalk-root_1  stalk-root_2  \\\n",
       "0              0              0              0             0             1   \n",
       "1              0              0              0             1             0   \n",
       "2              0              0              0             1             0   \n",
       "3              0              0              0             0             1   \n",
       "4              0              0              1             0             1   \n",
       "\n",
       "   stalk-root_3  stalk-root_4  stalk-surface-above-ring_1  \\\n",
       "0             0             0                           0   \n",
       "1             0             0                           0   \n",
       "2             0             0                           0   \n",
       "3             0             0                           0   \n",
       "4             0             0                           0   \n",
       "\n",
       "   stalk-surface-above-ring_2  stalk-surface-above-ring_3  \\\n",
       "0                           0                           1   \n",
       "1                           0                           1   \n",
       "2                           0                           1   \n",
       "3                           0                           1   \n",
       "4                           0                           1   \n",
       "\n",
       "   stalk-surface-below-ring_1  stalk-surface-below-ring_2  \\\n",
       "0                           0                           0   \n",
       "1                           0                           0   \n",
       "2                           0                           0   \n",
       "3                           0                           0   \n",
       "4                           0                           0   \n",
       "\n",
       "   stalk-surface-below-ring_3  stalk-color-above-ring_1  \\\n",
       "0                           1                         0   \n",
       "1                           1                         0   \n",
       "2                           1                         0   \n",
       "3                           1                         0   \n",
       "4                           1                         0   \n",
       "\n",
       "   stalk-color-above-ring_2  stalk-color-above-ring_3  \\\n",
       "0                         0                         0   \n",
       "1                         0                         0   \n",
       "2                         0                         0   \n",
       "3                         0                         0   \n",
       "4                         0                         0   \n",
       "\n",
       "   stalk-color-above-ring_4  stalk-color-above-ring_5  \\\n",
       "0                         0                         0   \n",
       "1                         0                         0   \n",
       "2                         0                         0   \n",
       "3                         0                         0   \n",
       "4                         0                         0   \n",
       "\n",
       "   stalk-color-above-ring_6  stalk-color-above-ring_7  \\\n",
       "0                         0                         1   \n",
       "1                         0                         1   \n",
       "2                         0                         1   \n",
       "3                         0                         1   \n",
       "4                         0                         1   \n",
       "\n",
       "   stalk-color-above-ring_8  stalk-color-below-ring_1  \\\n",
       "0                         0                         0   \n",
       "1                         0                         0   \n",
       "2                         0                         0   \n",
       "3                         0                         0   \n",
       "4                         0                         0   \n",
       "\n",
       "   stalk-color-below-ring_2  stalk-color-below-ring_3  \\\n",
       "0                         0                         0   \n",
       "1                         0                         0   \n",
       "2                         0                         0   \n",
       "3                         0                         0   \n",
       "4                         0                         0   \n",
       "\n",
       "   stalk-color-below-ring_4  stalk-color-below-ring_5  \\\n",
       "0                         0                         0   \n",
       "1                         0                         0   \n",
       "2                         0                         0   \n",
       "3                         0                         0   \n",
       "4                         0                         0   \n",
       "\n",
       "   stalk-color-below-ring_6  stalk-color-below-ring_7  \\\n",
       "0                         0                         1   \n",
       "1                         0                         1   \n",
       "2                         0                         1   \n",
       "3                         0                         1   \n",
       "4                         0                         1   \n",
       "\n",
       "   stalk-color-below-ring_8  veil-color_1  veil-color_2  veil-color_3  \\\n",
       "0                         0             0             1             0   \n",
       "1                         0             0             1             0   \n",
       "2                         0             0             1             0   \n",
       "3                         0             0             1             0   \n",
       "4                         0             0             1             0   \n",
       "\n",
       "   ring-number_1  ring-number_2  ring-type_1  ring-type_2  ring-type_3  \\\n",
       "0              1              0            0            0            0   \n",
       "1              1              0            0            0            0   \n",
       "2              1              0            0            0            0   \n",
       "3              1              0            0            0            0   \n",
       "4              1              0            0            0            0   \n",
       "\n",
       "   ring-type_4  spore-print-color_1  spore-print-color_2  spore-print-color_3  \\\n",
       "0            1                    0                    0                    0   \n",
       "1            1                    1                    0                    0   \n",
       "2            1                    1                    0                    0   \n",
       "3            1                    0                    0                    0   \n",
       "4            0                    1                    0                    0   \n",
       "\n",
       "   spore-print-color_4  spore-print-color_5  spore-print-color_6  \\\n",
       "0                    0                    0                    0   \n",
       "1                    0                    0                    0   \n",
       "2                    0                    0                    0   \n",
       "3                    0                    0                    0   \n",
       "4                    0                    0                    0   \n",
       "\n",
       "   spore-print-color_7  spore-print-color_8  population_1  population_2  \\\n",
       "0                    0                    0             0             0   \n",
       "1                    0                    0             0             1   \n",
       "2                    0                    0             0             1   \n",
       "3                    0                    0             0             0   \n",
       "4                    0                    0             0             0   \n",
       "\n",
       "   population_3  population_4  population_5  habitat_1  habitat_2  habitat_3  \\\n",
       "0             1             0             0          0          0          0   \n",
       "1             0             0             0          0          0          0   \n",
       "2             0             0             0          0          1          0   \n",
       "3             1             0             0          0          0          0   \n",
       "4             0             0             0          0          0          0   \n",
       "\n",
       "   habitat_4  habitat_5  habitat_6  \n",
       "0          1          0          0  \n",
       "1          0          0          0  \n",
       "2          0          0          0  \n",
       "3          1          0          0  \n",
       "4          0          0          0  "
      ]
     },
     "execution_count": 34,
     "metadata": {},
     "output_type": "execute_result"
    }
   ],
   "source": [
    "# get dummies\n",
    "\n",
    "X=pd.get_dummies(X,columns=X.columns,drop_first=True)\n",
    "\n",
    "X.head()"
   ]
  },
  {
   "cell_type": "code",
   "execution_count": 35,
   "metadata": {},
   "outputs": [],
   "source": [
    "# train test split\n",
    "from sklearn.model_selection import train_test_split\n",
    "\n",
    "X_train, X_test, y_train, y_test = train_test_split(X, y, test_size=0.3, random_state=42)"
   ]
  },
  {
   "cell_type": "code",
   "execution_count": 36,
   "metadata": {},
   "outputs": [],
   "source": [
    "# scale\n",
    "from sklearn.preprocessing import StandardScaler\n",
    "\n",
    "sc = StandardScaler()\n",
    "\n",
    "X_train = sc.fit_transform(X_train)\n",
    "X_test = sc.transform(X_test)"
   ]
  },
  {
   "cell_type": "markdown",
   "metadata": {},
   "source": [
    "### Models"
   ]
  },
  {
   "cell_type": "markdown",
   "metadata": {},
   "source": [
    "Try followings for this binary classification problem:\n",
    "\n",
    "- Logistic Regression\n",
    "- KNN\n",
    "- SVM\n",
    "- Gaussian Naive Bayes Classifier\n",
    "- Decision Tree\n",
    "- Random Forrest\n",
    "- CatBoost Classifier"
   ]
  },
  {
   "cell_type": "code",
   "execution_count": 37,
   "metadata": {},
   "outputs": [],
   "source": [
    "from sklearn.model_selection import GridSearchCV"
   ]
  },
  {
   "cell_type": "markdown",
   "metadata": {},
   "source": [
    "#### Logistic_Regression"
   ]
  },
  {
   "cell_type": "code",
   "execution_count": 38,
   "metadata": {},
   "outputs": [
    {
     "data": {
      "text/plain": [
       "GridSearchCV(cv=10, error_score=nan,\n",
       "             estimator=LogisticRegression(C=1.0, class_weight=None, dual=False,\n",
       "                                          fit_intercept=True,\n",
       "                                          intercept_scaling=1, l1_ratio=None,\n",
       "                                          max_iter=100, multi_class='auto',\n",
       "                                          n_jobs=None, penalty='l2',\n",
       "                                          random_state=None, solver='lbfgs',\n",
       "                                          tol=0.0001, verbose=0,\n",
       "                                          warm_start=False),\n",
       "             iid='deprecated', n_jobs=None,\n",
       "             param_grid={'C': [0.001, 0.009, 0.01, 0.09, 1, 5, 10, 25],\n",
       "                         'class_weight': ['balanced', None],\n",
       "                         'penalty': ['l1', 'l2'],\n",
       "                         'solver': ['lbfgs', 'liblinear']},\n",
       "             pre_dispatch='2*n_jobs', refit=True, return_train_score=False,\n",
       "             scoring=None, verbose=0)"
      ]
     },
     "execution_count": 38,
     "metadata": {},
     "output_type": "execute_result"
    },
    {
     "data": {
      "text/plain": [
       "{'C': 0.090, 'class_weight': 'balanced', 'penalty': 'l2', 'solver': 'lbfgs'}"
      ]
     },
     "execution_count": 38,
     "metadata": {},
     "output_type": "execute_result"
    },
    {
     "data": {
      "text/plain": [
       "0.9996482588814632"
      ]
     },
     "execution_count": 38,
     "metadata": {},
     "output_type": "execute_result"
    }
   ],
   "source": [
    "from sklearn.linear_model import LogisticRegression\n",
    "\n",
    "# hyperparameters to tune\n",
    "penalty = ['l1', 'l2']\n",
    "C = [0.001,.009,0.01,.09,1,5,10,25]\n",
    "class_weight = ['balanced', None]\n",
    "solver = ['lbfgs', 'liblinear']\n",
    "\n",
    "# hyperparameter options\n",
    "hyperparameters = dict(C=C, penalty=penalty, class_weight=class_weight, solver=solver)\n",
    "\n",
    " \n",
    "# cross-validation\n",
    "lr = GridSearchCV(estimator=LogisticRegression(), param_grid=hyperparameters, cv=10)\n",
    "\n",
    "# best model\n",
    "lr.fit(X_train, y_train)\n",
    "\n",
    "# best model params\n",
    "lr.best_params_\n",
    "\n",
    "# predict using best model\n",
    "lr_preds = lr.predict(X_test)\n",
    "score_lr = lr.score(X_train, y_train)\n",
    "score_lr"
   ]
  },
  {
   "cell_type": "markdown",
   "metadata": {},
   "source": [
    "#### KNN"
   ]
  },
  {
   "cell_type": "code",
   "execution_count": 39,
   "metadata": {},
   "outputs": [
    {
     "data": {
      "text/plain": [
       "GridSearchCV(cv=10, error_score=nan,\n",
       "             estimator=KNeighborsClassifier(algorithm='auto', leaf_size=30,\n",
       "                                            metric='minkowski',\n",
       "                                            metric_params=None, n_jobs=None,\n",
       "                                            n_neighbors=5, p=2,\n",
       "                                            weights='uniform'),\n",
       "             iid='deprecated', n_jobs=None,\n",
       "             param_grid={'algorithm': ['auto', 'ball_tree', 'kd_tree', 'brute'],\n",
       "                         'leaf_size': [10, 15, 30, 50],\n",
       "                         'n_neighbors': [3, 5, 10, 15, 30], 'p': [1, 2],\n",
       "                         'weights': ['uniform', 'distance']},\n",
       "             pre_dispatch='2*n_jobs', refit=True, return_train_score=False,\n",
       "             scoring=None, verbose=0)"
      ]
     },
     "execution_count": 39,
     "metadata": {},
     "output_type": "execute_result"
    },
    {
     "data": {
      "text/plain": [
       "{'algorithm': 'auto',\n",
       " 'leaf_size': 10,\n",
       " 'n_neighbors': 3,\n",
       " 'p': 1,\n",
       " 'weights': 'uniform'}"
      ]
     },
     "execution_count": 39,
     "metadata": {},
     "output_type": "execute_result"
    },
    {
     "data": {
      "text/plain": [
       "1.0"
      ]
     },
     "execution_count": 39,
     "metadata": {},
     "output_type": "execute_result"
    }
   ],
   "source": [
    "from sklearn.neighbors import KNeighborsClassifier\n",
    "\n",
    "# hyperparameters to tune\n",
    "leaf_size = [10,15,30,50]\n",
    "n_neighbors = [3,5,10,15,30]\n",
    "weights = ['uniform','distance']\n",
    "p = [1,2]\n",
    "algorithm = ['auto', 'ball_tree', 'kd_tree', 'brute']\n",
    "\n",
    "# hyperparameter options\n",
    "hyperparameters = dict(leaf_size=leaf_size,n_neighbors=n_neighbors,weights=weights,p=p,algorithm=algorithm)\n",
    "\n",
    "# cross-validation\n",
    "knn = GridSearchCV(estimator=KNeighborsClassifier(), param_grid=hyperparameters, cv=10)\n",
    "\n",
    "# best model\n",
    "knn.fit(X_train, y_train)\n",
    "\n",
    "# best model params\n",
    "knn.best_params_\n",
    "\n",
    "# predict using best model\n",
    "knn_preds = knn.predict(X_test)\n",
    "score_knn = knn.score(X_train, y_train)\n",
    "score_knn"
   ]
  },
  {
   "cell_type": "markdown",
   "metadata": {},
   "source": [
    "#### SVM"
   ]
  },
  {
   "cell_type": "code",
   "execution_count": 40,
   "metadata": {},
   "outputs": [
    {
     "data": {
      "text/plain": [
       "GridSearchCV(cv=10, error_score=nan,\n",
       "             estimator=SVC(C=1.0, break_ties=False, cache_size=200,\n",
       "                           class_weight=None, coef0=0.0,\n",
       "                           decision_function_shape='ovr', degree=3,\n",
       "                           gamma='scale', kernel='rbf', max_iter=-1,\n",
       "                           probability=False, random_state=None, shrinking=True,\n",
       "                           tol=0.001, verbose=False),\n",
       "             iid='deprecated', n_jobs=None,\n",
       "             param_grid={'C': [0.5, 1, 2], 'gamma': [0.02, 0.05],\n",
       "                         'kernel': ['linear', 'rbf']},\n",
       "             pre_dispatch='2*n_jobs', refit=True, return_train_score=False,\n",
       "             scoring=None, verbose=0)"
      ]
     },
     "execution_count": 40,
     "metadata": {},
     "output_type": "execute_result"
    },
    {
     "data": {
      "text/plain": [
       "{'C': 0.500, 'gamma': 0.020, 'kernel': 'linear'}"
      ]
     },
     "execution_count": 40,
     "metadata": {},
     "output_type": "execute_result"
    },
    {
     "data": {
      "text/plain": [
       "1.0"
      ]
     },
     "execution_count": 40,
     "metadata": {},
     "output_type": "execute_result"
    }
   ],
   "source": [
    "from sklearn.svm import SVC\n",
    "\n",
    "# hyperparameters to tune\n",
    "C = [0.5,1,2]\n",
    "kernel = ['linear', 'rbf']\n",
    "gamma = [0.02, 0.05]\n",
    "\n",
    "# hyperparameter options\n",
    "hyperparameters = dict(C=C,kernel=kernel,gamma=gamma)\n",
    "\n",
    "# cross-validation\n",
    "svc = GridSearchCV(estimator=SVC(), param_grid=hyperparameters, cv=10)\n",
    "\n",
    "# best model\n",
    "svc.fit(X_train, y_train)\n",
    "\n",
    "# best model params\n",
    "svc.best_params_\n",
    "\n",
    "# predict using best model\n",
    "svc_preds = svc.predict(X_test)\n",
    "score_svc = svc.score(X_train, y_train)\n",
    "score_svc\n"
   ]
  },
  {
   "cell_type": "markdown",
   "metadata": {},
   "source": [
    "#### Gaussian_Naive_Bayes"
   ]
  },
  {
   "cell_type": "code",
   "execution_count": 41,
   "metadata": {},
   "outputs": [
    {
     "data": {
      "text/plain": [
       "GaussianNB(priors=None, var_smoothing=1e-09)"
      ]
     },
     "execution_count": 41,
     "metadata": {},
     "output_type": "execute_result"
    },
    {
     "data": {
      "text/plain": [
       "0.9945480126626802"
      ]
     },
     "execution_count": 41,
     "metadata": {},
     "output_type": "execute_result"
    }
   ],
   "source": [
    "from sklearn.naive_bayes import GaussianNB\n",
    "\n",
    "# fit model\n",
    "gs = GaussianNB()\n",
    "gs.fit(X_train, y_train)\n",
    "gs_preds = gs.predict(X_test)\n",
    "score_gs = gs.score(X_train, y_train)\n",
    "score_gs"
   ]
  },
  {
   "cell_type": "markdown",
   "metadata": {},
   "source": [
    "#### Decision_Tree"
   ]
  },
  {
   "cell_type": "code",
   "execution_count": 42,
   "metadata": {},
   "outputs": [
    {
     "data": {
      "text/plain": [
       "GridSearchCV(cv=10, error_score=nan,\n",
       "             estimator=DecisionTreeClassifier(ccp_alpha=0.0, class_weight=None,\n",
       "                                              criterion='gini', max_depth=None,\n",
       "                                              max_features=None,\n",
       "                                              max_leaf_nodes=None,\n",
       "                                              min_impurity_decrease=0.0,\n",
       "                                              min_impurity_split=None,\n",
       "                                              min_samples_leaf=1,\n",
       "                                              min_samples_split=2,\n",
       "                                              min_weight_fraction_leaf=0.0,\n",
       "                                              presort='deprecated',\n",
       "                                              random_state=None,\n",
       "                                              splitter='best'),\n",
       "             iid='deprecated', n_jobs=None,\n",
       "             param_grid={'criterion': ['gini', 'entropy'],\n",
       "                         'max_depth': [2, 4, 6, 8, None],\n",
       "                         'min_samples_leaf': [1, 3, 5, 7, 10],\n",
       "                         'splitter': ['best', 'random']},\n",
       "             pre_dispatch='2*n_jobs', refit=True, return_train_score=False,\n",
       "             scoring=None, verbose=0)"
      ]
     },
     "execution_count": 42,
     "metadata": {},
     "output_type": "execute_result"
    },
    {
     "data": {
      "text/plain": [
       "{'criterion': 'gini',\n",
       " 'max_depth': 8,\n",
       " 'min_samples_leaf': 3,\n",
       " 'splitter': 'best'}"
      ]
     },
     "execution_count": 42,
     "metadata": {},
     "output_type": "execute_result"
    },
    {
     "data": {
      "text/plain": [
       "1.0"
      ]
     },
     "execution_count": 42,
     "metadata": {},
     "output_type": "execute_result"
    }
   ],
   "source": [
    "from sklearn.tree import DecisionTreeClassifier\n",
    "\n",
    "# hyperparameters to tune\n",
    "criterion = ['gini','entropy']\n",
    "splitter = ['best', 'random']\n",
    "max_depth = [2,4,6,8,None]\n",
    "min_samples_leaf = [1,3,5,7,10]\n",
    "\n",
    "# hyperparameter options\n",
    "hyperparameters = dict(criterion=criterion,splitter=splitter,max_depth=max_depth,min_samples_leaf=min_samples_leaf)\n",
    "\n",
    "# cross-validation\n",
    "dt = GridSearchCV(estimator=DecisionTreeClassifier(), param_grid=hyperparameters, cv=10)\n",
    "\n",
    "# best model\n",
    "dt.fit(X_train, y_train)\n",
    "\n",
    "# best model params\n",
    "dt.best_params_\n",
    "\n",
    "# predict using best model\n",
    "dt_preds = dt.predict(X_test)\n",
    "score_dt = dt.score(X_train, y_train)\n",
    "score_dt\n"
   ]
  },
  {
   "cell_type": "markdown",
   "metadata": {},
   "source": [
    "#### Random_Forest"
   ]
  },
  {
   "cell_type": "code",
   "execution_count": 43,
   "metadata": {},
   "outputs": [
    {
     "data": {
      "text/plain": [
       "GridSearchCV(cv=10, error_score=nan,\n",
       "             estimator=RandomForestClassifier(bootstrap=True, ccp_alpha=0.0,\n",
       "                                              class_weight=None,\n",
       "                                              criterion='gini', max_depth=None,\n",
       "                                              max_features='auto',\n",
       "                                              max_leaf_nodes=None,\n",
       "                                              max_samples=None,\n",
       "                                              min_impurity_decrease=0.0,\n",
       "                                              min_impurity_split=None,\n",
       "                                              min_samples_leaf=1,\n",
       "                                              min_samples_split=2,\n",
       "                                              min_weight_fraction_leaf=0.0,\n",
       "                                              n_estimators=100, n_jobs=None,\n",
       "                                              oob_score=False,\n",
       "                                              random_state=None, verbose=0,\n",
       "                                              warm_start=False),\n",
       "             iid='deprecated', n_jobs=None,\n",
       "             param_grid={'criterion': ['gini', 'entropy'], 'max_depth': [4, 8],\n",
       "                         'max_features': [3, 'auto'],\n",
       "                         'min_samples_split': [3, 7, 10],\n",
       "                         'n_estimators': [100, 300]},\n",
       "             pre_dispatch='2*n_jobs', refit=True, return_train_score=False,\n",
       "             scoring=None, verbose=0)"
      ]
     },
     "execution_count": 43,
     "metadata": {},
     "output_type": "execute_result"
    },
    {
     "data": {
      "text/plain": [
       "{'criterion': 'entropy',\n",
       " 'max_depth': 8,\n",
       " 'max_features': 'auto',\n",
       " 'min_samples_split': 10,\n",
       " 'n_estimators': 100}"
      ]
     },
     "execution_count": 43,
     "metadata": {},
     "output_type": "execute_result"
    },
    {
     "data": {
      "text/plain": [
       "1.0"
      ]
     },
     "execution_count": 43,
     "metadata": {},
     "output_type": "execute_result"
    }
   ],
   "source": [
    "from sklearn.ensemble import RandomForestClassifier\n",
    "\n",
    "# hyperparameters to tune\n",
    "n_estimators = [100,300]\n",
    "criterion = ['gini','entropy']\n",
    "max_depth = [4,8]\n",
    "max_features = [3,'auto']\n",
    "min_samples_split = [3,7,10]\n",
    "\n",
    "# hyperparameter options\n",
    "hyperparameters = dict(n_estimators=n_estimators,criterion=criterion,max_depth=max_depth,max_features=max_features,min_samples_split=min_samples_split)\n",
    "\n",
    "# cross-validation\n",
    "rf = GridSearchCV(estimator=RandomForestClassifier(), param_grid=hyperparameters, cv=10)\n",
    "\n",
    "# best model\n",
    "rf.fit(X_train, y_train)\n",
    "\n",
    "# best model params\n",
    "rf.best_params_\n",
    "\n",
    "# predict using best model\n",
    "rf_preds = rf.predict(X_test)\n",
    "score_rf = rf.score(X_train, y_train)\n",
    "score_rf\n"
   ]
  },
  {
   "cell_type": "markdown",
   "metadata": {},
   "source": [
    "#### CatBoost"
   ]
  },
  {
   "cell_type": "code",
   "execution_count": 44,
   "metadata": {},
   "outputs": [
    {
     "data": {
      "text/plain": [
       "GridSearchCV(cv=10, error_score=nan,\n",
       "             estimator=<catboost.core.CatBoostClassifier object at 0x1a1ee12b10>,\n",
       "             iid='deprecated', n_jobs=None,\n",
       "             param_grid={'l2_leaf_reg': [2, 10, 25],\n",
       "                         'learning_rate': [0.01, 0.05, 0.1, 0.5],\n",
       "                         'loss_function': ['Logloss', 'CrossEntropy']},\n",
       "             pre_dispatch='2*n_jobs', refit=True, return_train_score=False,\n",
       "             scoring=None, verbose=0)"
      ]
     },
     "execution_count": 44,
     "metadata": {},
     "output_type": "execute_result"
    },
    {
     "data": {
      "text/plain": [
       "{'l2_leaf_reg': 2, 'learning_rate': 0.100, 'loss_function': 'Logloss'}"
      ]
     },
     "execution_count": 44,
     "metadata": {},
     "output_type": "execute_result"
    },
    {
     "data": {
      "text/plain": [
       "1.0"
      ]
     },
     "execution_count": 44,
     "metadata": {},
     "output_type": "execute_result"
    }
   ],
   "source": [
    "from catboost import CatBoostClassifier\n",
    "\n",
    "# hyperparameters to tune\n",
    "learning_rate = [0.01,0.05,0.1,0.5]\n",
    "loss_function = ['Logloss', 'CrossEntropy']\n",
    "l2_leaf_reg = [2,10,25]\n",
    "\n",
    "# hyperparameter options\n",
    "hyperparameters = dict(learning_rate=learning_rate,loss_function=loss_function,l2_leaf_reg=l2_leaf_reg)\n",
    "\n",
    "# cross-validation\n",
    "cb = GridSearchCV(estimator=CatBoostClassifier(eval_metric='Accuracy',iterations=300), param_grid=hyperparameters, cv=10)\n",
    "\n",
    "# best model\n",
    "cb.fit(X_train, y_train, logging_level='Silent')\n",
    "\n",
    "# best model params\n",
    "cb.best_params_\n",
    "\n",
    "# predict using best model\n",
    "cb_preds = cb.predict(X_test)\n",
    "score_cb = cb.score(X_train, y_train)\n",
    "score_cb\n"
   ]
  },
  {
   "cell_type": "markdown",
   "metadata": {},
   "source": [
    "### Evaluation"
   ]
  },
  {
   "cell_type": "code",
   "execution_count": 45,
   "metadata": {},
   "outputs": [],
   "source": [
    "# evaluate classification\n",
    "from sklearn.metrics import accuracy_score, precision_score, recall_score, f1_score\n",
    "\n",
    "# evaluate on\n",
    "\n",
    "# accuracy = TP + TN / (TP + TN + FP + FN)\n",
    "# precision = TP / (TP + FP)\n",
    "# recall = TP / (TP + FN)  aka sensitivity, or true positive rate\n",
    "# f1 = 2 * precision * recall / (precision + recall) "
   ]
  },
  {
   "cell_type": "code",
   "execution_count": 46,
   "metadata": {},
   "outputs": [
    {
     "data": {
      "text/html": [
       "<div>\n",
       "<style scoped>\n",
       "    .dataframe tbody tr th:only-of-type {\n",
       "        vertical-align: middle;\n",
       "    }\n",
       "\n",
       "    .dataframe tbody tr th {\n",
       "        vertical-align: top;\n",
       "    }\n",
       "\n",
       "    .dataframe thead th {\n",
       "        text-align: right;\n",
       "    }\n",
       "</style>\n",
       "<table border=\"1\" class=\"dataframe\">\n",
       "  <thead>\n",
       "    <tr style=\"text-align: right;\">\n",
       "      <th></th>\n",
       "      <th>Model</th>\n",
       "      <th>Accuracy_Score</th>\n",
       "      <th>Precision</th>\n",
       "      <th>Recall</th>\n",
       "      <th>F1_Score</th>\n",
       "    </tr>\n",
       "  </thead>\n",
       "  <tbody>\n",
       "    <tr>\n",
       "      <th>0</th>\n",
       "      <td>Logistic Regression</td>\n",
       "      <td>0.999590</td>\n",
       "      <td>1.000000</td>\n",
       "      <td>0.999153</td>\n",
       "      <td>0.999576</td>\n",
       "    </tr>\n",
       "    <tr>\n",
       "      <th>1</th>\n",
       "      <td>KNN</td>\n",
       "      <td>1.000000</td>\n",
       "      <td>1.000000</td>\n",
       "      <td>1.000000</td>\n",
       "      <td>1.000000</td>\n",
       "    </tr>\n",
       "    <tr>\n",
       "      <th>2</th>\n",
       "      <td>SVM</td>\n",
       "      <td>1.000000</td>\n",
       "      <td>1.000000</td>\n",
       "      <td>1.000000</td>\n",
       "      <td>1.000000</td>\n",
       "    </tr>\n",
       "    <tr>\n",
       "      <th>3</th>\n",
       "      <td>Gaussian Naive Bayes</td>\n",
       "      <td>0.991386</td>\n",
       "      <td>0.983333</td>\n",
       "      <td>0.999153</td>\n",
       "      <td>0.991180</td>\n",
       "    </tr>\n",
       "    <tr>\n",
       "      <th>4</th>\n",
       "      <td>Decision Tree</td>\n",
       "      <td>1.000000</td>\n",
       "      <td>1.000000</td>\n",
       "      <td>1.000000</td>\n",
       "      <td>1.000000</td>\n",
       "    </tr>\n",
       "    <tr>\n",
       "      <th>5</th>\n",
       "      <td>Random Forest</td>\n",
       "      <td>1.000000</td>\n",
       "      <td>1.000000</td>\n",
       "      <td>1.000000</td>\n",
       "      <td>1.000000</td>\n",
       "    </tr>\n",
       "    <tr>\n",
       "      <th>6</th>\n",
       "      <td>CatBoost</td>\n",
       "      <td>1.000000</td>\n",
       "      <td>1.000000</td>\n",
       "      <td>1.000000</td>\n",
       "      <td>1.000000</td>\n",
       "    </tr>\n",
       "  </tbody>\n",
       "</table>\n",
       "</div>"
      ],
      "text/plain": [
       "                  Model  Accuracy_Score  Precision    Recall  F1_Score\n",
       "0   Logistic Regression        0.999590   1.000000  0.999153  0.999576\n",
       "1                   KNN        1.000000   1.000000  1.000000  1.000000\n",
       "2                   SVM        1.000000   1.000000  1.000000  1.000000\n",
       "3  Gaussian Naive Bayes        0.991386   0.983333  0.999153  0.991180\n",
       "4         Decision Tree        1.000000   1.000000  1.000000  1.000000\n",
       "5         Random Forest        1.000000   1.000000  1.000000  1.000000\n",
       "6              CatBoost        1.000000   1.000000  1.000000  1.000000"
      ]
     },
     "execution_count": 46,
     "metadata": {},
     "output_type": "execute_result"
    }
   ],
   "source": [
    "models = pd.DataFrame({    \n",
    "    'Model': [\n",
    "        'Logistic Regression',\n",
    "        'KNN', \n",
    "        'SVM',\n",
    "        'Gaussian Naive Bayes',\n",
    "        'Decision Tree',\n",
    "        'Random Forest',\n",
    "        'CatBoost'\n",
    "              ],\n",
    "    \n",
    "    'Accuracy_Score':[\n",
    "        accuracy_score(y_test, lr_preds),\n",
    "        accuracy_score(y_test, knn_preds),\n",
    "        accuracy_score(y_test, svc_preds),\n",
    "        accuracy_score(y_test, gs_preds),\n",
    "        accuracy_score(y_test, dt_preds),\n",
    "        accuracy_score(y_test, rf_preds),\n",
    "        accuracy_score(y_test, cb_preds)\n",
    "                     ],\n",
    "    \n",
    "    'Precision': [\n",
    "        precision_score(y_test, lr_preds),\n",
    "        precision_score(y_test, knn_preds),\n",
    "        precision_score(y_test, svc_preds),\n",
    "        precision_score(y_test, gs_preds),\n",
    "        precision_score(y_test, dt_preds),\n",
    "        precision_score(y_test, rf_preds),\n",
    "        precision_score(y_test, cb_preds)\n",
    "                ],\n",
    "    \n",
    "    'Recall': [\n",
    "        recall_score(y_test, lr_preds),\n",
    "        recall_score(y_test, knn_preds),\n",
    "        recall_score(y_test, svc_preds),\n",
    "        recall_score(y_test, gs_preds),\n",
    "        recall_score(y_test, dt_preds),\n",
    "        recall_score(y_test, rf_preds),\n",
    "        recall_score(y_test, cb_preds)\n",
    "                ],\n",
    "    \n",
    "    'F1_Score': [\n",
    "        f1_score(y_test, lr_preds),\n",
    "        f1_score(y_test, knn_preds),\n",
    "        f1_score(y_test, svc_preds),\n",
    "        f1_score(y_test, gs_preds),\n",
    "        f1_score(y_test, dt_preds),\n",
    "        f1_score(y_test, rf_preds),\n",
    "        f1_score(y_test, cb_preds)\n",
    "                ],\n",
    "})\n",
    "\n",
    "models"
   ]
  },
  {
   "cell_type": "code",
   "execution_count": null,
   "metadata": {},
   "outputs": [],
   "source": []
  },
  {
   "cell_type": "code",
   "execution_count": null,
   "metadata": {},
   "outputs": [],
   "source": []
  }
 ],
 "metadata": {
  "kernelspec": {
   "display_name": "Python 3",
   "language": "python",
   "name": "python3"
  },
  "language_info": {
   "codemirror_mode": {
    "name": "ipython",
    "version": 3
   },
   "file_extension": ".py",
   "mimetype": "text/x-python",
   "name": "python",
   "nbconvert_exporter": "python",
   "pygments_lexer": "ipython3",
   "version": "3.7.6"
  }
 },
 "nbformat": 4,
 "nbformat_minor": 4
}
