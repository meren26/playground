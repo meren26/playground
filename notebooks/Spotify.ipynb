{
 "cells": [
  {
   "cell_type": "markdown",
   "metadata": {},
   "source": [
    "## Spotify Data Exploration"
   ]
  },
  {
   "cell_type": "markdown",
   "metadata": {},
   "source": [
    "Kaggle's Spotify dataset. More info <a href=\"https://www.kaggle.com/yamaerenay/spotify-dataset-19212020-160k-tracks\">here.</a>"
   ]
  },
  {
   "cell_type": "markdown",
   "metadata": {},
   "source": [
    "### Table of Contents"
   ]
  },
  {
   "cell_type": "markdown",
   "metadata": {},
   "source": [
    "1. [Imports](#Imports)    \n",
    "2. [Data](#Data)  \n",
    "3. [EDA](#EDA)  \n",
    "  3.1 [Artist](#Artist)  \n",
    "  3.2 [Genre](#Genre)  \n",
    "  3.3 [All](#All)  \n",
    "  3.4 [Time Series](#Time_Series)\n"
   ]
  },
  {
   "cell_type": "markdown",
   "metadata": {},
   "source": [
    "### Imports"
   ]
  },
  {
   "cell_type": "code",
   "execution_count": 1,
   "metadata": {},
   "outputs": [
    {
     "name": "stdout",
     "output_type": "stream",
     "text": [
      "Populating the interactive namespace from numpy and matplotlib\n"
     ]
    },
    {
     "data": {
      "text/html": [
       "<style>.container { width:100% !important; }</style>"
      ],
      "text/plain": [
       "<IPython.core.display.HTML object>"
      ]
     },
     "metadata": {},
     "output_type": "display_data"
    }
   ],
   "source": [
    "# main\n",
    "import numpy as np\n",
    "import pandas as pd\n",
    "import scipy.stats as stats\n",
    "import pickle\n",
    "\n",
    "# datetimes\n",
    "import datetime as dt\n",
    "from datetime import datetime\n",
    "import time\n",
    "\n",
    "# dataviz\n",
    "%matplotlib notebook\n",
    "import matplotlib.pyplot as plt\n",
    "import seaborn as sns\n",
    "import graphviz\n",
    "\n",
    "# plot style\n",
    "%config InteractiveShellApp.pylab_import_all = False\n",
    "%pylab inline\n",
    "pylab.rcParams['figure.figsize'] = (10, 7)\n",
    "\n",
    "plt.style.use('seaborn-colorblind')\n",
    "\n",
    "# outline\n",
    "from IPython.core.display import display, HTML\n",
    "display(HTML(\"<style>.container { width:100% !important; }</style>\"))\n",
    "\n",
    "from IPython.core.interactiveshell import InteractiveShell\n",
    "InteractiveShell.ast_node_interactivity = \"all\"\n",
    "\n",
    "%precision %.3f\n",
    "\n",
    "# pandas display\n",
    "pd.set_option('display.max_rows', 200)\n",
    "pd.set_option('display.max_columns', 100)\n",
    "\n",
    "# warnings\n",
    "import warnings\n",
    "warnings.filterwarnings('ignore')"
   ]
  },
  {
   "cell_type": "markdown",
   "metadata": {},
   "source": [
    "### Data"
   ]
  },
  {
   "cell_type": "code",
   "execution_count": 2,
   "metadata": {},
   "outputs": [],
   "source": [
    "df = pd.read_csv('../data/spotify/data.csv',index_col=0)\n",
    "df_a = pd.read_csv('../data/spotify/data_by_artist.csv')\n",
    "df_g = pd.read_csv('../data/spotify/data_by_genres.csv')\n",
    "df_y = pd.read_csv('../data/spotify/data_by_year.csv',index_col=0)"
   ]
  },
  {
   "cell_type": "markdown",
   "metadata": {},
   "source": [
    "Numerical:\n",
    "- acousticness (Ranges from 0 to 1)\n",
    "- danceability (Ranges from 0 to 1)\n",
    "- energy (Ranges from 0 to 1)\n",
    "- duration_ms (Integer typically ranging from 200k to 300k)\n",
    "- instrumentalness (Ranges from 0 to 1)\n",
    "- valence (Ranges from 0 to 1)\n",
    "- popularity (Ranges from 0 to 100)\n",
    "- tempo (Float typically ranging from 50 to 150)\n",
    "- liveness (Ranges from 0 to 1)\n",
    "- loudness (Float typically ranging from -60 to 0)\n",
    "- speechiness (Ranges from 0 to 1)\n",
    "- year (Ranges from 1921 to 2020)\n",
    "\n",
    "Dummy:\n",
    "- mode (0 = Minor, 1 = Major)\n",
    "- explicit (0 = No explicit content, 1 = Explicit content)\n",
    "\n",
    "Categorical:\n",
    "- key (All keys on octave encoded as values ranging from 0 to 11, starting on C as 0, C# as 1 and so on…)\n",
    "- artists (List of artists mentioned)\n",
    "- release_date (Date of release mostly in yyyy-mm-dd format, however precision of date may vary)\n",
    "- name (Name of the song)"
   ]
  },
  {
   "cell_type": "code",
   "execution_count": 3,
   "metadata": {},
   "outputs": [
    {
     "data": {
      "text/plain": [
       "168592"
      ]
     },
     "execution_count": 3,
     "metadata": {},
     "output_type": "execute_result"
    },
    {
     "data": {
      "text/plain": [
       "27606"
      ]
     },
     "execution_count": 3,
     "metadata": {},
     "output_type": "execute_result"
    },
    {
     "data": {
      "text/plain": [
       "2617"
      ]
     },
     "execution_count": 3,
     "metadata": {},
     "output_type": "execute_result"
    },
    {
     "data": {
      "text/plain": [
       "100"
      ]
     },
     "execution_count": 3,
     "metadata": {},
     "output_type": "execute_result"
    }
   ],
   "source": [
    "# data available\n",
    "len(df) # 168592 songs\n",
    "len(df_a) # 27606 artists\n",
    "len(df_g) # 2617 genres\n",
    "len(df_y) # 100 years"
   ]
  },
  {
   "cell_type": "code",
   "execution_count": 4,
   "metadata": {},
   "outputs": [],
   "source": [
    "# 1 minute is 60000 ms\n",
    "\n",
    "dfs = [df, df_a, df_g, df_y]\n",
    "\n",
    "for d in dfs:\n",
    "    d.duration_ms = (d.duration_ms / 60000).round(2)\n",
    "    d.rename(columns={'duration_ms': 'duration_min'}, inplace=True)"
   ]
  },
  {
   "cell_type": "code",
   "execution_count": 5,
   "metadata": {},
   "outputs": [],
   "source": [
    "# correct release date - set in one format\n",
    "\n",
    "def correct_date(x):\n",
    "    if len(x) == 4:\n",
    "        return x + '-01-01'\n",
    "    return x\n",
    "        \n",
    "df.release_date = df.release_date.map(correct_date)\n",
    "\n",
    "df.release_date = pd.to_datetime(df.release_date, format='%Y-%m-%d')"
   ]
  },
  {
   "cell_type": "markdown",
   "metadata": {},
   "source": [
    "### EDA"
   ]
  },
  {
   "cell_type": "markdown",
   "metadata": {},
   "source": [
    "#### Artist"
   ]
  },
  {
   "cell_type": "code",
   "execution_count": 6,
   "metadata": {},
   "outputs": [
    {
     "data": {
      "text/html": [
       "<div>\n",
       "<style scoped>\n",
       "    .dataframe tbody tr th:only-of-type {\n",
       "        vertical-align: middle;\n",
       "    }\n",
       "\n",
       "    .dataframe tbody tr th {\n",
       "        vertical-align: top;\n",
       "    }\n",
       "\n",
       "    .dataframe thead th {\n",
       "        text-align: right;\n",
       "    }\n",
       "</style>\n",
       "<table border=\"1\" class=\"dataframe\">\n",
       "  <thead>\n",
       "    <tr style=\"text-align: right;\">\n",
       "      <th></th>\n",
       "      <th>acousticness</th>\n",
       "      <th>danceability</th>\n",
       "      <th>duration_min</th>\n",
       "      <th>energy</th>\n",
       "      <th>instrumentalness</th>\n",
       "      <th>liveness</th>\n",
       "      <th>loudness</th>\n",
       "      <th>speechiness</th>\n",
       "      <th>tempo</th>\n",
       "      <th>valence</th>\n",
       "      <th>popularity</th>\n",
       "      <th>key</th>\n",
       "      <th>mode</th>\n",
       "      <th>count</th>\n",
       "    </tr>\n",
       "  </thead>\n",
       "  <tbody>\n",
       "    <tr>\n",
       "      <th>count</th>\n",
       "      <td>27606.000000</td>\n",
       "      <td>27606.000000</td>\n",
       "      <td>27606.000000</td>\n",
       "      <td>27606.000000</td>\n",
       "      <td>27606.000000</td>\n",
       "      <td>27606.000000</td>\n",
       "      <td>27606.000000</td>\n",
       "      <td>27606.000000</td>\n",
       "      <td>27606.000000</td>\n",
       "      <td>27606.000000</td>\n",
       "      <td>27606.000000</td>\n",
       "      <td>27606.000000</td>\n",
       "      <td>27606.000000</td>\n",
       "      <td>27606.000000</td>\n",
       "    </tr>\n",
       "    <tr>\n",
       "      <th>mean</th>\n",
       "      <td>0.511213</td>\n",
       "      <td>0.540540</td>\n",
       "      <td>3.966793</td>\n",
       "      <td>0.489070</td>\n",
       "      <td>0.171924</td>\n",
       "      <td>0.203372</td>\n",
       "      <td>-11.342185</td>\n",
       "      <td>0.094928</td>\n",
       "      <td>115.405597</td>\n",
       "      <td>0.512366</td>\n",
       "      <td>34.211749</td>\n",
       "      <td>5.409512</td>\n",
       "      <td>0.773564</td>\n",
       "      <td>8.132435</td>\n",
       "    </tr>\n",
       "    <tr>\n",
       "      <th>std</th>\n",
       "      <td>0.369982</td>\n",
       "      <td>0.176387</td>\n",
       "      <td>2.023559</td>\n",
       "      <td>0.254124</td>\n",
       "      <td>0.296770</td>\n",
       "      <td>0.140081</td>\n",
       "      <td>5.897531</td>\n",
       "      <td>0.113778</td>\n",
       "      <td>25.177440</td>\n",
       "      <td>0.244332</td>\n",
       "      <td>22.026644</td>\n",
       "      <td>3.475562</td>\n",
       "      <td>0.418532</td>\n",
       "      <td>31.772349</td>\n",
       "    </tr>\n",
       "    <tr>\n",
       "      <th>min</th>\n",
       "      <td>0.000000</td>\n",
       "      <td>0.000000</td>\n",
       "      <td>0.310000</td>\n",
       "      <td>0.000000</td>\n",
       "      <td>0.000000</td>\n",
       "      <td>0.000000</td>\n",
       "      <td>-60.000000</td>\n",
       "      <td>0.000000</td>\n",
       "      <td>0.000000</td>\n",
       "      <td>0.000000</td>\n",
       "      <td>0.000000</td>\n",
       "      <td>0.000000</td>\n",
       "      <td>0.000000</td>\n",
       "      <td>1.000000</td>\n",
       "    </tr>\n",
       "    <tr>\n",
       "      <th>25%</th>\n",
       "      <td>0.133185</td>\n",
       "      <td>0.424693</td>\n",
       "      <td>3.030000</td>\n",
       "      <td>0.277000</td>\n",
       "      <td>0.000004</td>\n",
       "      <td>0.111333</td>\n",
       "      <td>-14.235000</td>\n",
       "      <td>0.039402</td>\n",
       "      <td>98.636917</td>\n",
       "      <td>0.329013</td>\n",
       "      <td>13.500000</td>\n",
       "      <td>2.000000</td>\n",
       "      <td>1.000000</td>\n",
       "      <td>1.000000</td>\n",
       "    </tr>\n",
       "    <tr>\n",
       "      <th>50%</th>\n",
       "      <td>0.507000</td>\n",
       "      <td>0.552000</td>\n",
       "      <td>3.630000</td>\n",
       "      <td>0.494000</td>\n",
       "      <td>0.001869</td>\n",
       "      <td>0.163000</td>\n",
       "      <td>-10.262017</td>\n",
       "      <td>0.052167</td>\n",
       "      <td>114.936204</td>\n",
       "      <td>0.524000</td>\n",
       "      <td>39.000000</td>\n",
       "      <td>6.000000</td>\n",
       "      <td>1.000000</td>\n",
       "      <td>2.000000</td>\n",
       "    </tr>\n",
       "    <tr>\n",
       "      <th>75%</th>\n",
       "      <td>0.906106</td>\n",
       "      <td>0.669000</td>\n",
       "      <td>4.440000</td>\n",
       "      <td>0.695000</td>\n",
       "      <td>0.205225</td>\n",
       "      <td>0.247000</td>\n",
       "      <td>-6.960013</td>\n",
       "      <td>0.095800</td>\n",
       "      <td>129.861625</td>\n",
       "      <td>0.702000</td>\n",
       "      <td>51.000000</td>\n",
       "      <td>8.000000</td>\n",
       "      <td>1.000000</td>\n",
       "      <td>5.000000</td>\n",
       "    </tr>\n",
       "    <tr>\n",
       "      <th>max</th>\n",
       "      <td>0.996000</td>\n",
       "      <td>0.986000</td>\n",
       "      <td>90.060000</td>\n",
       "      <td>1.000000</td>\n",
       "      <td>1.000000</td>\n",
       "      <td>0.991000</td>\n",
       "      <td>1.342000</td>\n",
       "      <td>0.964000</td>\n",
       "      <td>217.743000</td>\n",
       "      <td>0.999000</td>\n",
       "      <td>97.000000</td>\n",
       "      <td>11.000000</td>\n",
       "      <td>1.000000</td>\n",
       "      <td>2267.000000</td>\n",
       "    </tr>\n",
       "  </tbody>\n",
       "</table>\n",
       "</div>"
      ],
      "text/plain": [
       "       acousticness  danceability  duration_min        energy  \\\n",
       "count  27606.000000  27606.000000  27606.000000  27606.000000   \n",
       "mean       0.511213      0.540540      3.966793      0.489070   \n",
       "std        0.369982      0.176387      2.023559      0.254124   \n",
       "min        0.000000      0.000000      0.310000      0.000000   \n",
       "25%        0.133185      0.424693      3.030000      0.277000   \n",
       "50%        0.507000      0.552000      3.630000      0.494000   \n",
       "75%        0.906106      0.669000      4.440000      0.695000   \n",
       "max        0.996000      0.986000     90.060000      1.000000   \n",
       "\n",
       "       instrumentalness      liveness      loudness   speechiness  \\\n",
       "count      27606.000000  27606.000000  27606.000000  27606.000000   \n",
       "mean           0.171924      0.203372    -11.342185      0.094928   \n",
       "std            0.296770      0.140081      5.897531      0.113778   \n",
       "min            0.000000      0.000000    -60.000000      0.000000   \n",
       "25%            0.000004      0.111333    -14.235000      0.039402   \n",
       "50%            0.001869      0.163000    -10.262017      0.052167   \n",
       "75%            0.205225      0.247000     -6.960013      0.095800   \n",
       "max            1.000000      0.991000      1.342000      0.964000   \n",
       "\n",
       "              tempo       valence    popularity           key          mode  \\\n",
       "count  27606.000000  27606.000000  27606.000000  27606.000000  27606.000000   \n",
       "mean     115.405597      0.512366     34.211749      5.409512      0.773564   \n",
       "std       25.177440      0.244332     22.026644      3.475562      0.418532   \n",
       "min        0.000000      0.000000      0.000000      0.000000      0.000000   \n",
       "25%       98.636917      0.329013     13.500000      2.000000      1.000000   \n",
       "50%      114.936204      0.524000     39.000000      6.000000      1.000000   \n",
       "75%      129.861625      0.702000     51.000000      8.000000      1.000000   \n",
       "max      217.743000      0.999000     97.000000     11.000000      1.000000   \n",
       "\n",
       "              count  \n",
       "count  27606.000000  \n",
       "mean       8.132435  \n",
       "std       31.772349  \n",
       "min        1.000000  \n",
       "25%        1.000000  \n",
       "50%        2.000000  \n",
       "75%        5.000000  \n",
       "max     2267.000000  "
      ]
     },
     "execution_count": 6,
     "metadata": {},
     "output_type": "execute_result"
    }
   ],
   "source": [
    "df_a.describe()"
   ]
  },
  {
   "cell_type": "code",
   "execution_count": 7,
   "metadata": {},
   "outputs": [
    {
     "data": {
      "text/html": [
       "<div>\n",
       "<style scoped>\n",
       "    .dataframe tbody tr th:only-of-type {\n",
       "        vertical-align: middle;\n",
       "    }\n",
       "\n",
       "    .dataframe tbody tr th {\n",
       "        vertical-align: top;\n",
       "    }\n",
       "\n",
       "    .dataframe thead th {\n",
       "        text-align: right;\n",
       "    }\n",
       "</style>\n",
       "<table border=\"1\" class=\"dataframe\">\n",
       "  <thead>\n",
       "    <tr style=\"text-align: right;\">\n",
       "      <th></th>\n",
       "      <th>artists</th>\n",
       "      <th>acousticness</th>\n",
       "      <th>danceability</th>\n",
       "      <th>duration_min</th>\n",
       "      <th>energy</th>\n",
       "      <th>instrumentalness</th>\n",
       "      <th>liveness</th>\n",
       "      <th>loudness</th>\n",
       "      <th>speechiness</th>\n",
       "      <th>tempo</th>\n",
       "      <th>valence</th>\n",
       "      <th>popularity</th>\n",
       "      <th>key</th>\n",
       "      <th>mode</th>\n",
       "      <th>count</th>\n",
       "    </tr>\n",
       "  </thead>\n",
       "  <tbody>\n",
       "    <tr>\n",
       "      <th>71</th>\n",
       "      <td>Metallica</td>\n",
       "      <td>0.019903</td>\n",
       "      <td>0.361825</td>\n",
       "      <td>6.09</td>\n",
       "      <td>0.90385</td>\n",
       "      <td>0.228861</td>\n",
       "      <td>0.344874</td>\n",
       "      <td>-6.288496</td>\n",
       "      <td>0.099597</td>\n",
       "      <td>124.850058</td>\n",
       "      <td>0.338508</td>\n",
       "      <td>39.891667</td>\n",
       "      <td>4</td>\n",
       "      <td>1</td>\n",
       "      <td>240</td>\n",
       "    </tr>\n",
       "  </tbody>\n",
       "</table>\n",
       "</div>"
      ],
      "text/plain": [
       "      artists  acousticness  danceability  duration_min   energy  \\\n",
       "71  Metallica      0.019903      0.361825          6.09  0.90385   \n",
       "\n",
       "    instrumentalness  liveness  loudness  speechiness       tempo   valence  \\\n",
       "71          0.228861  0.344874 -6.288496     0.099597  124.850058  0.338508   \n",
       "\n",
       "    popularity  key  mode  count  \n",
       "71   39.891667    4     1    240  "
      ]
     },
     "execution_count": 7,
     "metadata": {},
     "output_type": "execute_result"
    }
   ],
   "source": [
    "# want to see one single row\n",
    "df_a[df_a['artists']=='Metallica']"
   ]
  },
  {
   "cell_type": "code",
   "execution_count": 8,
   "metadata": {},
   "outputs": [
    {
     "data": {
      "text/html": [
       "<div>\n",
       "<style scoped>\n",
       "    .dataframe tbody tr th:only-of-type {\n",
       "        vertical-align: middle;\n",
       "    }\n",
       "\n",
       "    .dataframe tbody tr th {\n",
       "        vertical-align: top;\n",
       "    }\n",
       "\n",
       "    .dataframe thead th {\n",
       "        text-align: right;\n",
       "    }\n",
       "</style>\n",
       "<table border=\"1\" class=\"dataframe\">\n",
       "  <thead>\n",
       "    <tr style=\"text-align: right;\">\n",
       "      <th></th>\n",
       "      <th>artists</th>\n",
       "      <th>popularity</th>\n",
       "    </tr>\n",
       "  </thead>\n",
       "  <tbody>\n",
       "    <tr>\n",
       "      <th>16321</th>\n",
       "      <td>THE SCOTTS</td>\n",
       "      <td>97.000000</td>\n",
       "    </tr>\n",
       "    <tr>\n",
       "      <th>16900</th>\n",
       "      <td>Emilee</td>\n",
       "      <td>92.000000</td>\n",
       "    </tr>\n",
       "    <tr>\n",
       "      <th>25350</th>\n",
       "      <td>Surf Mesa</td>\n",
       "      <td>92.000000</td>\n",
       "    </tr>\n",
       "    <tr>\n",
       "      <th>12758</th>\n",
       "      <td>Tones And I</td>\n",
       "      <td>90.500000</td>\n",
       "    </tr>\n",
       "    <tr>\n",
       "      <th>18569</th>\n",
       "      <td>DripReport</td>\n",
       "      <td>90.000000</td>\n",
       "    </tr>\n",
       "    <tr>\n",
       "      <th>25150</th>\n",
       "      <td>Topic</td>\n",
       "      <td>90.000000</td>\n",
       "    </tr>\n",
       "    <tr>\n",
       "      <th>18636</th>\n",
       "      <td>A7S</td>\n",
       "      <td>90.000000</td>\n",
       "    </tr>\n",
       "    <tr>\n",
       "      <th>11028</th>\n",
       "      <td>Dímelo Flow</td>\n",
       "      <td>87.666667</td>\n",
       "    </tr>\n",
       "    <tr>\n",
       "      <th>25479</th>\n",
       "      <td>Imanbek</td>\n",
       "      <td>87.000000</td>\n",
       "    </tr>\n",
       "    <tr>\n",
       "      <th>27281</th>\n",
       "      <td>Alida</td>\n",
       "      <td>87.000000</td>\n",
       "    </tr>\n",
       "  </tbody>\n",
       "</table>\n",
       "</div>"
      ],
      "text/plain": [
       "           artists  popularity\n",
       "16321   THE SCOTTS   97.000000\n",
       "16900       Emilee   92.000000\n",
       "25350    Surf Mesa   92.000000\n",
       "12758  Tones And I   90.500000\n",
       "18569   DripReport   90.000000\n",
       "25150        Topic   90.000000\n",
       "18636          A7S   90.000000\n",
       "11028  Dímelo Flow   87.666667\n",
       "25479      Imanbek   87.000000\n",
       "27281        Alida   87.000000"
      ]
     },
     "execution_count": 8,
     "metadata": {},
     "output_type": "execute_result"
    }
   ],
   "source": [
    "# top 10 popular artists\n",
    "df_a.sort_values(by='popularity', ascending=False)[['artists','popularity']].head(10)"
   ]
  },
  {
   "cell_type": "code",
   "execution_count": 9,
   "metadata": {},
   "outputs": [
    {
     "data": {
      "text/html": [
       "<div>\n",
       "<style scoped>\n",
       "    .dataframe tbody tr th:only-of-type {\n",
       "        vertical-align: middle;\n",
       "    }\n",
       "\n",
       "    .dataframe tbody tr th {\n",
       "        vertical-align: top;\n",
       "    }\n",
       "\n",
       "    .dataframe thead th {\n",
       "        text-align: right;\n",
       "    }\n",
       "</style>\n",
       "<table border=\"1\" class=\"dataframe\">\n",
       "  <thead>\n",
       "    <tr style=\"text-align: right;\">\n",
       "      <th></th>\n",
       "      <th>artists</th>\n",
       "      <th>count</th>\n",
       "    </tr>\n",
       "  </thead>\n",
       "  <tbody>\n",
       "    <tr>\n",
       "      <th>0</th>\n",
       "      <td>Francisco Canaro</td>\n",
       "      <td>2267</td>\n",
       "    </tr>\n",
       "    <tr>\n",
       "      <th>1</th>\n",
       "      <td>Frédéric Chopin</td>\n",
       "      <td>1068</td>\n",
       "    </tr>\n",
       "    <tr>\n",
       "      <th>2</th>\n",
       "      <td>Ludwig van Beethoven</td>\n",
       "      <td>965</td>\n",
       "    </tr>\n",
       "    <tr>\n",
       "      <th>3</th>\n",
       "      <td>Wolfgang Amadeus Mozart</td>\n",
       "      <td>965</td>\n",
       "    </tr>\n",
       "    <tr>\n",
       "      <th>4</th>\n",
       "      <td>Johann Sebastian Bach</td>\n",
       "      <td>921</td>\n",
       "    </tr>\n",
       "    <tr>\n",
       "      <th>5</th>\n",
       "      <td>Igor Stravinsky</td>\n",
       "      <td>752</td>\n",
       "    </tr>\n",
       "    <tr>\n",
       "      <th>6</th>\n",
       "      <td>Frank Sinatra</td>\n",
       "      <td>736</td>\n",
       "    </tr>\n",
       "    <tr>\n",
       "      <th>7</th>\n",
       "      <td>Giuseppe Verdi</td>\n",
       "      <td>685</td>\n",
       "    </tr>\n",
       "    <tr>\n",
       "      <th>8</th>\n",
       "      <td>Billie Holiday</td>\n",
       "      <td>679</td>\n",
       "    </tr>\n",
       "    <tr>\n",
       "      <th>9</th>\n",
       "      <td>Ignacio Corsini</td>\n",
       "      <td>635</td>\n",
       "    </tr>\n",
       "  </tbody>\n",
       "</table>\n",
       "</div>"
      ],
      "text/plain": [
       "                   artists  count\n",
       "0         Francisco Canaro   2267\n",
       "1          Frédéric Chopin   1068\n",
       "2     Ludwig van Beethoven    965\n",
       "3  Wolfgang Amadeus Mozart    965\n",
       "4    Johann Sebastian Bach    921\n",
       "5          Igor Stravinsky    752\n",
       "6            Frank Sinatra    736\n",
       "7           Giuseppe Verdi    685\n",
       "8           Billie Holiday    679\n",
       "9          Ignacio Corsini    635"
      ]
     },
     "execution_count": 9,
     "metadata": {},
     "output_type": "execute_result"
    }
   ],
   "source": [
    "# top 10 productive artists - total num of tracks\n",
    "df_a.sort_values(by='count', ascending=False)[['artists','count']].head(10)"
   ]
  },
  {
   "cell_type": "code",
   "execution_count": 10,
   "metadata": {},
   "outputs": [
    {
     "data": {
      "text/plain": [
       "key\n",
       "0     2793\n",
       "1     2191\n",
       "2     3042\n",
       "3     1299\n",
       "4     1635\n",
       "5     2602\n",
       "6     1680\n",
       "7     4340\n",
       "8     1407\n",
       "9     2435\n",
       "10    2020\n",
       "11    2162\n",
       "Name: artists, dtype: int64"
      ]
     },
     "execution_count": 10,
     "metadata": {},
     "output_type": "execute_result"
    }
   ],
   "source": [
    "df_a.groupby('key')['artists'].count()"
   ]
  },
  {
   "cell_type": "markdown",
   "metadata": {},
   "source": [
    "#### Genre"
   ]
  },
  {
   "cell_type": "code",
   "execution_count": 11,
   "metadata": {},
   "outputs": [
    {
     "data": {
      "text/html": [
       "<div>\n",
       "<style scoped>\n",
       "    .dataframe tbody tr th:only-of-type {\n",
       "        vertical-align: middle;\n",
       "    }\n",
       "\n",
       "    .dataframe tbody tr th {\n",
       "        vertical-align: top;\n",
       "    }\n",
       "\n",
       "    .dataframe thead th {\n",
       "        text-align: right;\n",
       "    }\n",
       "</style>\n",
       "<table border=\"1\" class=\"dataframe\">\n",
       "  <thead>\n",
       "    <tr style=\"text-align: right;\">\n",
       "      <th></th>\n",
       "      <th>acousticness</th>\n",
       "      <th>danceability</th>\n",
       "      <th>duration_min</th>\n",
       "      <th>energy</th>\n",
       "      <th>instrumentalness</th>\n",
       "      <th>liveness</th>\n",
       "      <th>loudness</th>\n",
       "      <th>speechiness</th>\n",
       "      <th>tempo</th>\n",
       "      <th>valence</th>\n",
       "      <th>popularity</th>\n",
       "      <th>key</th>\n",
       "      <th>mode</th>\n",
       "    </tr>\n",
       "  </thead>\n",
       "  <tbody>\n",
       "    <tr>\n",
       "      <th>count</th>\n",
       "      <td>2617.000000</td>\n",
       "      <td>2617.000000</td>\n",
       "      <td>2617.000000</td>\n",
       "      <td>2617.000000</td>\n",
       "      <td>2617.000000</td>\n",
       "      <td>2617.000000</td>\n",
       "      <td>2617.000000</td>\n",
       "      <td>2617.000000</td>\n",
       "      <td>2617.000000</td>\n",
       "      <td>2617.000000</td>\n",
       "      <td>2617.000000</td>\n",
       "      <td>2617.000000</td>\n",
       "      <td>2617.000000</td>\n",
       "    </tr>\n",
       "    <tr>\n",
       "      <th>mean</th>\n",
       "      <td>0.403324</td>\n",
       "      <td>0.534628</td>\n",
       "      <td>4.167298</td>\n",
       "      <td>0.561793</td>\n",
       "      <td>0.200779</td>\n",
       "      <td>0.194006</td>\n",
       "      <td>-10.436427</td>\n",
       "      <td>0.082506</td>\n",
       "      <td>118.752869</td>\n",
       "      <td>0.497154</td>\n",
       "      <td>40.111733</td>\n",
       "      <td>6.087505</td>\n",
       "      <td>0.866259</td>\n",
       "    </tr>\n",
       "    <tr>\n",
       "      <th>std</th>\n",
       "      <td>0.312706</td>\n",
       "      <td>0.146085</td>\n",
       "      <td>1.421786</td>\n",
       "      <td>0.226365</td>\n",
       "      <td>0.254757</td>\n",
       "      <td>0.088700</td>\n",
       "      <td>5.066912</td>\n",
       "      <td>0.077276</td>\n",
       "      <td>17.251700</td>\n",
       "      <td>0.195004</td>\n",
       "      <td>15.848145</td>\n",
       "      <td>3.288089</td>\n",
       "      <td>0.340439</td>\n",
       "    </tr>\n",
       "    <tr>\n",
       "      <th>min</th>\n",
       "      <td>0.000002</td>\n",
       "      <td>0.026642</td>\n",
       "      <td>0.790000</td>\n",
       "      <td>0.002825</td>\n",
       "      <td>0.000000</td>\n",
       "      <td>0.022200</td>\n",
       "      <td>-37.719027</td>\n",
       "      <td>0.016500</td>\n",
       "      <td>49.139281</td>\n",
       "      <td>0.004275</td>\n",
       "      <td>0.000000</td>\n",
       "      <td>0.000000</td>\n",
       "      <td>0.000000</td>\n",
       "    </tr>\n",
       "    <tr>\n",
       "      <th>25%</th>\n",
       "      <td>0.126027</td>\n",
       "      <td>0.447667</td>\n",
       "      <td>3.440000</td>\n",
       "      <td>0.401500</td>\n",
       "      <td>0.005414</td>\n",
       "      <td>0.143906</td>\n",
       "      <td>-12.399620</td>\n",
       "      <td>0.045550</td>\n",
       "      <td>109.604000</td>\n",
       "      <td>0.364182</td>\n",
       "      <td>32.750000</td>\n",
       "      <td>3.000000</td>\n",
       "      <td>1.000000</td>\n",
       "    </tr>\n",
       "    <tr>\n",
       "      <th>50%</th>\n",
       "      <td>0.332593</td>\n",
       "      <td>0.543000</td>\n",
       "      <td>3.980000</td>\n",
       "      <td>0.598404</td>\n",
       "      <td>0.081816</td>\n",
       "      <td>0.180248</td>\n",
       "      <td>-9.345000</td>\n",
       "      <td>0.059838</td>\n",
       "      <td>118.655000</td>\n",
       "      <td>0.506250</td>\n",
       "      <td>42.833333</td>\n",
       "      <td>7.000000</td>\n",
       "      <td>1.000000</td>\n",
       "    </tr>\n",
       "    <tr>\n",
       "      <th>75%</th>\n",
       "      <td>0.658184</td>\n",
       "      <td>0.636190</td>\n",
       "      <td>4.560000</td>\n",
       "      <td>0.726375</td>\n",
       "      <td>0.317679</td>\n",
       "      <td>0.219267</td>\n",
       "      <td>-6.984558</td>\n",
       "      <td>0.089814</td>\n",
       "      <td>127.049610</td>\n",
       "      <td>0.635153</td>\n",
       "      <td>51.000000</td>\n",
       "      <td>9.000000</td>\n",
       "      <td>1.000000</td>\n",
       "    </tr>\n",
       "    <tr>\n",
       "      <th>max</th>\n",
       "      <td>0.996000</td>\n",
       "      <td>0.962000</td>\n",
       "      <td>27.410000</td>\n",
       "      <td>0.999500</td>\n",
       "      <td>0.992000</td>\n",
       "      <td>0.960000</td>\n",
       "      <td>-0.131500</td>\n",
       "      <td>0.942601</td>\n",
       "      <td>204.212000</td>\n",
       "      <td>0.989000</td>\n",
       "      <td>85.000000</td>\n",
       "      <td>11.000000</td>\n",
       "      <td>1.000000</td>\n",
       "    </tr>\n",
       "  </tbody>\n",
       "</table>\n",
       "</div>"
      ],
      "text/plain": [
       "       acousticness  danceability  duration_min       energy  \\\n",
       "count   2617.000000   2617.000000   2617.000000  2617.000000   \n",
       "mean       0.403324      0.534628      4.167298     0.561793   \n",
       "std        0.312706      0.146085      1.421786     0.226365   \n",
       "min        0.000002      0.026642      0.790000     0.002825   \n",
       "25%        0.126027      0.447667      3.440000     0.401500   \n",
       "50%        0.332593      0.543000      3.980000     0.598404   \n",
       "75%        0.658184      0.636190      4.560000     0.726375   \n",
       "max        0.996000      0.962000     27.410000     0.999500   \n",
       "\n",
       "       instrumentalness     liveness     loudness  speechiness        tempo  \\\n",
       "count       2617.000000  2617.000000  2617.000000  2617.000000  2617.000000   \n",
       "mean           0.200779     0.194006   -10.436427     0.082506   118.752869   \n",
       "std            0.254757     0.088700     5.066912     0.077276    17.251700   \n",
       "min            0.000000     0.022200   -37.719027     0.016500    49.139281   \n",
       "25%            0.005414     0.143906   -12.399620     0.045550   109.604000   \n",
       "50%            0.081816     0.180248    -9.345000     0.059838   118.655000   \n",
       "75%            0.317679     0.219267    -6.984558     0.089814   127.049610   \n",
       "max            0.992000     0.960000    -0.131500     0.942601   204.212000   \n",
       "\n",
       "           valence   popularity          key         mode  \n",
       "count  2617.000000  2617.000000  2617.000000  2617.000000  \n",
       "mean      0.497154    40.111733     6.087505     0.866259  \n",
       "std       0.195004    15.848145     3.288089     0.340439  \n",
       "min       0.004275     0.000000     0.000000     0.000000  \n",
       "25%       0.364182    32.750000     3.000000     1.000000  \n",
       "50%       0.506250    42.833333     7.000000     1.000000  \n",
       "75%       0.635153    51.000000     9.000000     1.000000  \n",
       "max       0.989000    85.000000    11.000000     1.000000  "
      ]
     },
     "execution_count": 11,
     "metadata": {},
     "output_type": "execute_result"
    }
   ],
   "source": [
    "df_g.describe()"
   ]
  },
  {
   "cell_type": "code",
   "execution_count": 12,
   "metadata": {},
   "outputs": [
    {
     "data": {
      "text/html": [
       "<div>\n",
       "<style scoped>\n",
       "    .dataframe tbody tr th:only-of-type {\n",
       "        vertical-align: middle;\n",
       "    }\n",
       "\n",
       "    .dataframe tbody tr th {\n",
       "        vertical-align: top;\n",
       "    }\n",
       "\n",
       "    .dataframe thead th {\n",
       "        text-align: right;\n",
       "    }\n",
       "</style>\n",
       "<table border=\"1\" class=\"dataframe\">\n",
       "  <thead>\n",
       "    <tr style=\"text-align: right;\">\n",
       "      <th></th>\n",
       "      <th>genres</th>\n",
       "      <th>acousticness</th>\n",
       "      <th>danceability</th>\n",
       "      <th>duration_min</th>\n",
       "      <th>energy</th>\n",
       "      <th>instrumentalness</th>\n",
       "      <th>liveness</th>\n",
       "      <th>loudness</th>\n",
       "      <th>speechiness</th>\n",
       "      <th>tempo</th>\n",
       "      <th>valence</th>\n",
       "      <th>popularity</th>\n",
       "      <th>key</th>\n",
       "      <th>mode</th>\n",
       "    </tr>\n",
       "  </thead>\n",
       "  <tbody>\n",
       "    <tr>\n",
       "      <th>1556</th>\n",
       "      <td>metal</td>\n",
       "      <td>0.044915</td>\n",
       "      <td>0.376872</td>\n",
       "      <td>4.55</td>\n",
       "      <td>0.853354</td>\n",
       "      <td>0.201001</td>\n",
       "      <td>0.225984</td>\n",
       "      <td>-7.469937</td>\n",
       "      <td>0.08578</td>\n",
       "      <td>128.269994</td>\n",
       "      <td>0.359231</td>\n",
       "      <td>40.677016</td>\n",
       "      <td>9</td>\n",
       "      <td>1</td>\n",
       "    </tr>\n",
       "  </tbody>\n",
       "</table>\n",
       "</div>"
      ],
      "text/plain": [
       "     genres  acousticness  danceability  duration_min    energy  \\\n",
       "1556  metal      0.044915      0.376872          4.55  0.853354   \n",
       "\n",
       "      instrumentalness  liveness  loudness  speechiness       tempo   valence  \\\n",
       "1556          0.201001  0.225984 -7.469937      0.08578  128.269994  0.359231   \n",
       "\n",
       "      popularity  key  mode  \n",
       "1556   40.677016    9     1  "
      ]
     },
     "execution_count": 12,
     "metadata": {},
     "output_type": "execute_result"
    }
   ],
   "source": [
    "df_g[df_g.genres=='metal']"
   ]
  },
  {
   "cell_type": "code",
   "execution_count": 13,
   "metadata": {},
   "outputs": [
    {
     "data": {
      "text/plain": [
       "genres        russian dance\n",
       "popularity               85\n",
       "Name: 2100, dtype: object"
      ]
     },
     "execution_count": 13,
     "metadata": {},
     "output_type": "execute_result"
    }
   ],
   "source": [
    "# most popular genre\n",
    "df_g.iloc[df_g.popularity.argmax()][['genres','popularity']]"
   ]
  },
  {
   "cell_type": "code",
   "execution_count": 14,
   "metadata": {},
   "outputs": [
    {
     "data": {
      "text/plain": [
       "'yoga'"
      ]
     },
     "execution_count": 14,
     "metadata": {},
     "output_type": "execute_result"
    }
   ],
   "source": [
    "# most instrumental genre\n",
    "df_g.iloc[df_g.instrumentalness.argmax()]['genres']"
   ]
  },
  {
   "cell_type": "code",
   "execution_count": 15,
   "metadata": {},
   "outputs": [
    {
     "data": {
      "text/plain": [
       "'hoerspiel'"
      ]
     },
     "execution_count": 15,
     "metadata": {},
     "output_type": "execute_result"
    }
   ],
   "source": [
    "# most speechiness genre\n",
    "df_g.iloc[df_g.speechiness.argmax()]['genres']"
   ]
  },
  {
   "cell_type": "code",
   "execution_count": 16,
   "metadata": {},
   "outputs": [
    {
     "data": {
      "text/plain": [
       "'danseband'"
      ]
     },
     "execution_count": 16,
     "metadata": {},
     "output_type": "execute_result"
    }
   ],
   "source": [
    "# tempo?\n",
    "df_g.iloc[df_g.tempo.argmax()]['genres']"
   ]
  },
  {
   "cell_type": "code",
   "execution_count": 17,
   "metadata": {},
   "outputs": [
    {
     "data": {
      "text/plain": [
       "genres          microtonal\n",
       "duration_min         27.41\n",
       "Name: 1578, dtype: object"
      ]
     },
     "execution_count": 17,
     "metadata": {},
     "output_type": "execute_result"
    }
   ],
   "source": [
    "# duration\n",
    "df_g.iloc[df_g.duration_min.argmax()][['genres','duration_min']]"
   ]
  },
  {
   "cell_type": "code",
   "execution_count": 18,
   "metadata": {},
   "outputs": [
    {
     "data": {
      "text/plain": [
       "1    2267\n",
       "0     350\n",
       "Name: mode, dtype: int64"
      ]
     },
     "execution_count": 18,
     "metadata": {},
     "output_type": "execute_result"
    }
   ],
   "source": [
    "df_g['mode'].value_counts()"
   ]
  },
  {
   "cell_type": "markdown",
   "metadata": {},
   "source": [
    "#### All"
   ]
  },
  {
   "cell_type": "code",
   "execution_count": 19,
   "metadata": {},
   "outputs": [
    {
     "data": {
      "text/html": [
       "<div>\n",
       "<style scoped>\n",
       "    .dataframe tbody tr th:only-of-type {\n",
       "        vertical-align: middle;\n",
       "    }\n",
       "\n",
       "    .dataframe tbody tr th {\n",
       "        vertical-align: top;\n",
       "    }\n",
       "\n",
       "    .dataframe thead th {\n",
       "        text-align: right;\n",
       "    }\n",
       "</style>\n",
       "<table border=\"1\" class=\"dataframe\">\n",
       "  <thead>\n",
       "    <tr style=\"text-align: right;\">\n",
       "      <th></th>\n",
       "      <th>acousticness</th>\n",
       "      <th>danceability</th>\n",
       "      <th>duration_min</th>\n",
       "      <th>energy</th>\n",
       "      <th>explicit</th>\n",
       "      <th>instrumentalness</th>\n",
       "      <th>key</th>\n",
       "      <th>liveness</th>\n",
       "      <th>loudness</th>\n",
       "      <th>mode</th>\n",
       "      <th>popularity</th>\n",
       "      <th>speechiness</th>\n",
       "      <th>tempo</th>\n",
       "      <th>valence</th>\n",
       "      <th>year</th>\n",
       "    </tr>\n",
       "  </thead>\n",
       "  <tbody>\n",
       "    <tr>\n",
       "      <th>count</th>\n",
       "      <td>168592.000000</td>\n",
       "      <td>168592.000000</td>\n",
       "      <td>168592.00000</td>\n",
       "      <td>168592.000000</td>\n",
       "      <td>168592.000000</td>\n",
       "      <td>168592.000000</td>\n",
       "      <td>168592.000000</td>\n",
       "      <td>168592.000000</td>\n",
       "      <td>168592.000000</td>\n",
       "      <td>168592.000000</td>\n",
       "      <td>168592.000000</td>\n",
       "      <td>168592.000000</td>\n",
       "      <td>168592.000000</td>\n",
       "      <td>168592.000000</td>\n",
       "      <td>168592.000000</td>\n",
       "    </tr>\n",
       "    <tr>\n",
       "      <th>mean</th>\n",
       "      <td>0.501360</td>\n",
       "      <td>0.533648</td>\n",
       "      <td>3.87836</td>\n",
       "      <td>0.488577</td>\n",
       "      <td>0.071516</td>\n",
       "      <td>0.169476</td>\n",
       "      <td>5.196795</td>\n",
       "      <td>0.205151</td>\n",
       "      <td>-11.358180</td>\n",
       "      <td>0.709446</td>\n",
       "      <td>31.626862</td>\n",
       "      <td>0.083616</td>\n",
       "      <td>116.918295</td>\n",
       "      <td>0.528497</td>\n",
       "      <td>1977.457774</td>\n",
       "    </tr>\n",
       "    <tr>\n",
       "      <th>std</th>\n",
       "      <td>0.377993</td>\n",
       "      <td>0.175919</td>\n",
       "      <td>2.03986</td>\n",
       "      <td>0.267346</td>\n",
       "      <td>0.257685</td>\n",
       "      <td>0.315383</td>\n",
       "      <td>3.504587</td>\n",
       "      <td>0.175896</td>\n",
       "      <td>5.670176</td>\n",
       "      <td>0.454019</td>\n",
       "      <td>21.393260</td>\n",
       "      <td>0.119917</td>\n",
       "      <td>30.726527</td>\n",
       "      <td>0.264457</td>\n",
       "      <td>25.406757</td>\n",
       "    </tr>\n",
       "    <tr>\n",
       "      <th>min</th>\n",
       "      <td>0.000000</td>\n",
       "      <td>0.000000</td>\n",
       "      <td>0.09000</td>\n",
       "      <td>0.000000</td>\n",
       "      <td>0.000000</td>\n",
       "      <td>0.000000</td>\n",
       "      <td>0.000000</td>\n",
       "      <td>0.000000</td>\n",
       "      <td>-60.000000</td>\n",
       "      <td>0.000000</td>\n",
       "      <td>0.000000</td>\n",
       "      <td>0.000000</td>\n",
       "      <td>0.000000</td>\n",
       "      <td>0.000000</td>\n",
       "      <td>1921.000000</td>\n",
       "    </tr>\n",
       "    <tr>\n",
       "      <th>25%</th>\n",
       "      <td>0.097800</td>\n",
       "      <td>0.412000</td>\n",
       "      <td>2.87000</td>\n",
       "      <td>0.265000</td>\n",
       "      <td>0.000000</td>\n",
       "      <td>0.000000</td>\n",
       "      <td>2.000000</td>\n",
       "      <td>0.098200</td>\n",
       "      <td>-14.388000</td>\n",
       "      <td>0.000000</td>\n",
       "      <td>13.000000</td>\n",
       "      <td>0.034800</td>\n",
       "      <td>93.500750</td>\n",
       "      <td>0.315000</td>\n",
       "      <td>1957.000000</td>\n",
       "    </tr>\n",
       "    <tr>\n",
       "      <th>50%</th>\n",
       "      <td>0.515000</td>\n",
       "      <td>0.543000</td>\n",
       "      <td>3.49000</td>\n",
       "      <td>0.480000</td>\n",
       "      <td>0.000000</td>\n",
       "      <td>0.000264</td>\n",
       "      <td>5.000000</td>\n",
       "      <td>0.134000</td>\n",
       "      <td>-10.466000</td>\n",
       "      <td>1.000000</td>\n",
       "      <td>34.000000</td>\n",
       "      <td>0.044600</td>\n",
       "      <td>114.795000</td>\n",
       "      <td>0.539000</td>\n",
       "      <td>1978.000000</td>\n",
       "    </tr>\n",
       "    <tr>\n",
       "      <th>75%</th>\n",
       "      <td>0.896000</td>\n",
       "      <td>0.662000</td>\n",
       "      <td>4.40000</td>\n",
       "      <td>0.709000</td>\n",
       "      <td>0.000000</td>\n",
       "      <td>0.111000</td>\n",
       "      <td>8.000000</td>\n",
       "      <td>0.259000</td>\n",
       "      <td>-7.135000</td>\n",
       "      <td>1.000000</td>\n",
       "      <td>48.000000</td>\n",
       "      <td>0.072300</td>\n",
       "      <td>135.733500</td>\n",
       "      <td>0.749000</td>\n",
       "      <td>1999.000000</td>\n",
       "    </tr>\n",
       "    <tr>\n",
       "      <th>max</th>\n",
       "      <td>0.996000</td>\n",
       "      <td>0.988000</td>\n",
       "      <td>90.06000</td>\n",
       "      <td>1.000000</td>\n",
       "      <td>1.000000</td>\n",
       "      <td>1.000000</td>\n",
       "      <td>11.000000</td>\n",
       "      <td>1.000000</td>\n",
       "      <td>3.855000</td>\n",
       "      <td>1.000000</td>\n",
       "      <td>100.000000</td>\n",
       "      <td>0.968000</td>\n",
       "      <td>244.091000</td>\n",
       "      <td>1.000000</td>\n",
       "      <td>2020.000000</td>\n",
       "    </tr>\n",
       "  </tbody>\n",
       "</table>\n",
       "</div>"
      ],
      "text/plain": [
       "        acousticness   danceability  duration_min         energy  \\\n",
       "count  168592.000000  168592.000000  168592.00000  168592.000000   \n",
       "mean        0.501360       0.533648       3.87836       0.488577   \n",
       "std         0.377993       0.175919       2.03986       0.267346   \n",
       "min         0.000000       0.000000       0.09000       0.000000   \n",
       "25%         0.097800       0.412000       2.87000       0.265000   \n",
       "50%         0.515000       0.543000       3.49000       0.480000   \n",
       "75%         0.896000       0.662000       4.40000       0.709000   \n",
       "max         0.996000       0.988000      90.06000       1.000000   \n",
       "\n",
       "            explicit  instrumentalness            key       liveness  \\\n",
       "count  168592.000000     168592.000000  168592.000000  168592.000000   \n",
       "mean        0.071516          0.169476       5.196795       0.205151   \n",
       "std         0.257685          0.315383       3.504587       0.175896   \n",
       "min         0.000000          0.000000       0.000000       0.000000   \n",
       "25%         0.000000          0.000000       2.000000       0.098200   \n",
       "50%         0.000000          0.000264       5.000000       0.134000   \n",
       "75%         0.000000          0.111000       8.000000       0.259000   \n",
       "max         1.000000          1.000000      11.000000       1.000000   \n",
       "\n",
       "            loudness           mode     popularity    speechiness  \\\n",
       "count  168592.000000  168592.000000  168592.000000  168592.000000   \n",
       "mean      -11.358180       0.709446      31.626862       0.083616   \n",
       "std         5.670176       0.454019      21.393260       0.119917   \n",
       "min       -60.000000       0.000000       0.000000       0.000000   \n",
       "25%       -14.388000       0.000000      13.000000       0.034800   \n",
       "50%       -10.466000       1.000000      34.000000       0.044600   \n",
       "75%        -7.135000       1.000000      48.000000       0.072300   \n",
       "max         3.855000       1.000000     100.000000       0.968000   \n",
       "\n",
       "               tempo        valence           year  \n",
       "count  168592.000000  168592.000000  168592.000000  \n",
       "mean      116.918295       0.528497    1977.457774  \n",
       "std        30.726527       0.264457      25.406757  \n",
       "min         0.000000       0.000000    1921.000000  \n",
       "25%        93.500750       0.315000    1957.000000  \n",
       "50%       114.795000       0.539000    1978.000000  \n",
       "75%       135.733500       0.749000    1999.000000  \n",
       "max       244.091000       1.000000    2020.000000  "
      ]
     },
     "execution_count": 19,
     "metadata": {},
     "output_type": "execute_result"
    }
   ],
   "source": [
    "df.describe()"
   ]
  },
  {
   "cell_type": "code",
   "execution_count": 20,
   "metadata": {},
   "outputs": [
    {
     "data": {
      "text/plain": [
       "name            Brown Noise - 90 Minutes\n",
       "duration_min                       90.06\n",
       "Name: 90154, dtype: object"
      ]
     },
     "execution_count": 20,
     "metadata": {},
     "output_type": "execute_result"
    }
   ],
   "source": [
    "# longest record\n",
    "df.iloc[df.duration_min.argmax()][['name','duration_min']]"
   ]
  },
  {
   "cell_type": "code",
   "execution_count": 21,
   "metadata": {},
   "outputs": [
    {
     "data": {
      "text/plain": [
       "name            Pause Track\n",
       "duration_min           0.09\n",
       "Name: 67028, dtype: object"
      ]
     },
     "execution_count": 21,
     "metadata": {},
     "output_type": "execute_result"
    }
   ],
   "source": [
    "# shortest record\n",
    "df.iloc[df.duration_min.argmin()][['name','duration_min']]"
   ]
  },
  {
   "cell_type": "code",
   "execution_count": 22,
   "metadata": {},
   "outputs": [
    {
     "data": {
      "text/plain": [
       "artists     ['The Weeknd']\n",
       "name       Blinding Lights\n",
       "Name: 9875, dtype: object"
      ]
     },
     "execution_count": 22,
     "metadata": {},
     "output_type": "execute_result"
    }
   ],
   "source": [
    "# most popular artist-song\n",
    "df.iloc[df.popularity.argmax()][['artists','name']]"
   ]
  },
  {
   "cell_type": "code",
   "execution_count": 23,
   "metadata": {},
   "outputs": [
    {
     "data": {
      "text/plain": [
       "<matplotlib.axes._subplots.AxesSubplot at 0x1a29658210>"
      ]
     },
     "execution_count": 23,
     "metadata": {},
     "output_type": "execute_result"
    },
    {
     "data": {
      "text/plain": [
       "(0, 40)"
      ]
     },
     "execution_count": 23,
     "metadata": {},
     "output_type": "execute_result"
    },
    {
     "data": {
      "image/png": "[encoded data removed]",
      "text/plain": [
       "<Figure size 720x504 with 1 Axes>"
      ]
     },
     "metadata": {
      "needs_background": "light"
     },
     "output_type": "display_data"
    }
   ],
   "source": [
    "sns.distplot(df['duration_min'],bins=100)\n",
    "plt.xlim(0,40)"
   ]
  },
  {
   "cell_type": "code",
   "execution_count": 24,
   "metadata": {},
   "outputs": [
    {
     "data": {
      "text/plain": [
       "name\n",
       "death bed (coffee for your head) (feat. beabadoobee)    98.0\n",
       "THE SCOTTS                                              97.0\n",
       "Say So                                                  96.0\n",
       "ROCKSTAR (feat. Roddy Ricch)                            96.0\n",
       "Supalonely                                              95.0\n",
       "ROXANNE                                                 94.0\n",
       "Boss Bitch                                              93.0\n",
       "Tusa                                                    93.0\n",
       "SICKO MODE                                              93.0\n",
       "Yo Perreo Sola                                          93.0\n",
       "Safaera                                                 93.0\n",
       "ily (i love you baby) (feat. Emilee)                    92.0\n",
       "WHATS POPPIN                                            92.0\n",
       "Don't Start Now                                         92.0\n",
       "Stuck with U (with Justin Bieber)                       92.0\n",
       "bad guy                                                 92.0\n",
       "Blueberry Faygo                                         91.5\n",
       "Godzilla (feat. Juice WRLD)                             91.0\n",
       "Righteous                                               91.0\n",
       "Intentions                                              91.0\n",
       "everything i wanted                                     91.0\n",
       "Dance Monkey                                            90.5\n",
       "Si Veo a Tu Mamá                                        90.0\n",
       "Amarillo                                                90.0\n",
       "Savage Remix (feat. Beyoncé)                            90.0\n",
       "Name: popularity, dtype: float64"
      ]
     },
     "execution_count": 24,
     "metadata": {},
     "output_type": "execute_result"
    }
   ],
   "source": [
    "# top 25 popular songs - on average\n",
    "df.groupby(['name'])['popularity'].mean().sort_values(ascending=False).head(25)"
   ]
  },
  {
   "cell_type": "code",
   "execution_count": 25,
   "metadata": {},
   "outputs": [
    {
     "data": {
      "text/plain": [
       "<matplotlib.axes._subplots.AxesSubplot at 0x1a228d5910>"
      ]
     },
     "execution_count": 25,
     "metadata": {},
     "output_type": "execute_result"
    },
    {
     "data": {
      "text/plain": [
       "<matplotlib.axes._subplots.AxesSubplot at 0x1a229b6ad0>"
      ]
     },
     "execution_count": 25,
     "metadata": {},
     "output_type": "execute_result"
    },
    {
     "data": {
      "text/plain": [
       "<matplotlib.axes._subplots.AxesSubplot at 0x1a22838310>"
      ]
     },
     "execution_count": 25,
     "metadata": {},
     "output_type": "execute_result"
    },
    {
     "data": {
      "image/png": "[encoded data removed]",
      "text/plain": [
       "<Figure size 1512x432 with 3 Axes>"
      ]
     },
     "metadata": {
      "needs_background": "light"
     },
     "output_type": "display_data"
    }
   ],
   "source": [
    "fig = plt.figure(figsize=(21,6))\n",
    "ax1 = fig.add_subplot(131)\n",
    "ax2 = fig.add_subplot(132)\n",
    "ax3 = fig.add_subplot(133)\n",
    "\n",
    "sns.distplot(df['popularity'],bins=100,ax=ax1)\n",
    "sns.distplot(df['loudness'],bins=100,ax=ax2)\n",
    "sns.distplot(df['tempo'],bins=100,ax=ax3)\n",
    "plt.show()"
   ]
  },
  {
   "cell_type": "code",
   "execution_count": 26,
   "metadata": {},
   "outputs": [
    {
     "data": {
      "text/plain": [
       "<matplotlib.axes._subplots.AxesSubplot at 0x1a22b3f750>"
      ]
     },
     "execution_count": 26,
     "metadata": {},
     "output_type": "execute_result"
    },
    {
     "data": {
      "image/png": "[encoded data removed]",
      "text/plain": [
       "<Figure size 720x504 with 1 Axes>"
      ]
     },
     "metadata": {
      "needs_background": "light"
     },
     "output_type": "display_data"
    }
   ],
   "source": [
    "# number of artists per song\n",
    "df['num_artists'] = df['artists'].apply(lambda x: len(x.split(',')))\n",
    "sns.scatterplot(x='popularity', y='num_artists',data=df)"
   ]
  },
  {
   "cell_type": "markdown",
   "metadata": {},
   "source": [
    "#### Time_Series"
   ]
  },
  {
   "cell_type": "code",
   "execution_count": 27,
   "metadata": {},
   "outputs": [
    {
     "data": {
      "text/plain": [
       "<Figure size 1800x432 with 0 Axes>"
      ]
     },
     "execution_count": 27,
     "metadata": {},
     "output_type": "execute_result"
    },
    {
     "data": {
      "text/plain": [
       "Text(0.5, 1.0, 'Some stats over the years')"
      ]
     },
     "execution_count": 27,
     "metadata": {},
     "output_type": "execute_result"
    },
    {
     "data": {
      "text/plain": [
       "<matplotlib.axes._subplots.AxesSubplot at 0x1a2294cc90>"
      ]
     },
     "execution_count": 27,
     "metadata": {},
     "output_type": "execute_result"
    },
    {
     "data": {
      "text/plain": [
       "<matplotlib.legend.Legend at 0x1a22917bd0>"
      ]
     },
     "execution_count": 27,
     "metadata": {},
     "output_type": "execute_result"
    },
    {
     "data": {
      "image/png": "[encoded data removed]",
      "text/plain": [
       "<Figure size 1800x432 with 1 Axes>"
      ]
     },
     "metadata": {
      "needs_background": "light"
     },
     "output_type": "display_data"
    }
   ],
   "source": [
    "plt.figure(figsize=(25,6))\n",
    "col_list = ['year', 'acousticness', 'danceability', 'energy', 'instrumentalness', 'liveness', 'speechiness', 'valence']\n",
    "plt.title('Some stats over the years')\n",
    "sns.lineplot(x='year', y='vals', hue='cols', data=df_y[col_list].melt('year', var_name='cols',  value_name='vals'))\n",
    "plt.legend(loc='upper right')"
   ]
  },
  {
   "cell_type": "markdown",
   "metadata": {},
   "source": [
    "- In time, acousticness has decreased whereas energy and instrumentalness (sort of) of the songs has increased.\n",
    "- Danceability has increased in the last 10-15 years."
   ]
  },
  {
   "cell_type": "code",
   "execution_count": 28,
   "metadata": {},
   "outputs": [
    {
     "data": {
      "text/plain": [
       "<Figure size 1440x432 with 0 Axes>"
      ]
     },
     "execution_count": 28,
     "metadata": {},
     "output_type": "execute_result"
    },
    {
     "data": {
      "text/plain": [
       "Text(0.5, 1.0, 'Loudness over the years')"
      ]
     },
     "execution_count": 28,
     "metadata": {},
     "output_type": "execute_result"
    },
    {
     "data": {
      "text/plain": [
       "<matplotlib.axes._subplots.AxesSubplot at 0x1a27162910>"
      ]
     },
     "execution_count": 28,
     "metadata": {},
     "output_type": "execute_result"
    },
    {
     "data": {
      "image/png": "[encoded data removed]",
      "text/plain": [
       "<Figure size 1440x432 with 1 Axes>"
      ]
     },
     "metadata": {
      "needs_background": "light"
     },
     "output_type": "display_data"
    }
   ],
   "source": [
    "plt.figure(figsize=(20,6))\n",
    "plt.title('Loudness over the years')\n",
    "sns.lineplot(x='year',y='loudness', data=df_y)"
   ]
  },
  {
   "cell_type": "code",
   "execution_count": null,
   "metadata": {},
   "outputs": [],
   "source": []
  }
 ],
 "metadata": {
  "kernelspec": {
   "display_name": "Python 3",
   "language": "python",
   "name": "python3"
  },
  "language_info": {
   "codemirror_mode": {
    "name": "ipython",
    "version": 3
   },
   "file_extension": ".py",
   "mimetype": "text/x-python",
   "name": "python",
   "nbconvert_exporter": "python",
   "pygments_lexer": "ipython3",
   "version": "3.7.6"
  }
 },
 "nbformat": 4,
 "nbformat_minor": 4
}
